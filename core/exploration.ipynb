{
 "metadata": {
  "language_info": {
   "codemirror_mode": {
    "name": "ipython",
    "version": 3
   },
   "file_extension": ".py",
   "mimetype": "text/x-python",
   "name": "python",
   "nbconvert_exporter": "python",
   "pygments_lexer": "ipython3",
   "version": "3.7.10-final"
  },
  "orig_nbformat": 2,
  "kernelspec": {
   "name": "python3",
   "display_name": "Python 3.7.10 64-bit ('ddenv': conda)",
   "metadata": {
    "interpreter": {
     "hash": "4e93cb0a747647566ecb8af40624e8431245ee7f956cc05cad77669f445d8dd1"
    }
   }
  }
 },
 "nbformat": 4,
 "nbformat_minor": 2,
 "cells": [
  {
   "source": [
    "# NYC Motor Vehicle Crashes dataset\n",
    "Explore, clean and prepare dataset for a machine learning model"
   ],
   "cell_type": "markdown",
   "metadata": {}
  },
  {
   "source": [
    "## 1. Import modules"
   ],
   "cell_type": "markdown",
   "metadata": {}
  },
  {
   "cell_type": "code",
   "execution_count": 3,
   "metadata": {},
   "outputs": [],
   "source": [
    "import numpy as np\n",
    "import pandas as pd"
   ]
  },
  {
   "source": [
    "## 2. Import dataset"
   ],
   "cell_type": "markdown",
   "metadata": {}
  },
  {
   "cell_type": "code",
   "execution_count": 4,
   "metadata": {},
   "outputs": [],
   "source": [
    "df = pd.read_csv('assets/data_100000.csv')"
   ]
  },
  {
   "source": [
    "## 3. Explore dataset"
   ],
   "cell_type": "markdown",
   "metadata": {}
  },
  {
   "cell_type": "code",
   "execution_count": 11,
   "metadata": {},
   "outputs": [
    {
     "output_type": "stream",
     "name": "stdout",
     "text": [
      "0. The five first rows:\n"
     ]
    },
    {
     "output_type": "execute_result",
     "data": {
      "text/plain": [
       "                crash_date crash_time        borough  zip_code   latitude  \\\n",
       "0  2017-04-18T00:00:00.000      23:10  STATEN ISLAND   10312.0  40.536728   \n",
       "1  2017-05-06T00:00:00.000      13:00          BRONX   10472.0  40.829052   \n",
       "2  2017-04-27T00:00:00.000      17:15         QUEENS   11420.0  40.677303   \n",
       "3  2017-05-09T00:00:00.000      20:10            NaN       NaN  40.624958   \n",
       "4  2017-04-18T00:00:00.000      14:00          BRONX   10456.0  40.828846   \n",
       "\n",
       "   longitude                 location                    on_street_name  \\\n",
       "0 -74.193344  (40.536728, -74.193344)                               NaN   \n",
       "1 -73.850380   (40.829052, -73.85038)  CASTLE HILL AVENUE                 \n",
       "2 -73.804565  (40.677303, -73.804565)  135 STREET                         \n",
       "3 -74.145775  (40.624958, -74.145775)  FOREST AVENUE                      \n",
       "4 -73.903120   (40.828846, -73.90312)                               NaN   \n",
       "\n",
       "    off_street_name                         cross_street_name  ...  \\\n",
       "0               NaN  243       DARLINGTON AVENUE               ...   \n",
       "1  BLACKROCK AVENUE                                       NaN  ...   \n",
       "2    FOCH BOULEVARD                                       NaN  ...   \n",
       "3   RICHMOND AVENUE                                       NaN  ...   \n",
       "4               NaN  1167      BOSTON ROAD                     ...   \n",
       "\n",
       "   contributing_factor_vehicle_2  contributing_factor_vehicle_3  \\\n",
       "0                    Unspecified                            NaN   \n",
       "1                            NaN                            NaN   \n",
       "2                    Unspecified                            NaN   \n",
       "3                    Unspecified                    Unspecified   \n",
       "4                    Unspecified                            NaN   \n",
       "\n",
       "   contributing_factor_vehicle_4  contributing_factor_vehicle_5  collision_id  \\\n",
       "0                            NaN                            NaN       3654181   \n",
       "1                            NaN                            NaN       3665311   \n",
       "2                            NaN                            NaN       3658491   \n",
       "3                            NaN                            NaN       3666554   \n",
       "4                            NaN                            NaN       3653269   \n",
       "\n",
       "                    vehicle_type_code1                   vehicle_type_code2  \\\n",
       "0  Station Wagon/Sport Utility Vehicle                                  NaN   \n",
       "1                                Sedan                                  NaN   \n",
       "2                                Sedan                                Sedan   \n",
       "3                           Motorcycle                                Sedan   \n",
       "4                                Sedan  Station Wagon/Sport Utility Vehicle   \n",
       "\n",
       "   vehicle_type_code_3 vehicle_type_code_4 vehicle_type_code_5  \n",
       "0                  NaN                 NaN                 NaN  \n",
       "1                  NaN                 NaN                 NaN  \n",
       "2                  NaN                 NaN                 NaN  \n",
       "3                  Bus                 NaN                 NaN  \n",
       "4                  NaN                 NaN                 NaN  \n",
       "\n",
       "[5 rows x 29 columns]"
      ],
      "text/html": "<div>\n<style scoped>\n    .dataframe tbody tr th:only-of-type {\n        vertical-align: middle;\n    }\n\n    .dataframe tbody tr th {\n        vertical-align: top;\n    }\n\n    .dataframe thead th {\n        text-align: right;\n    }\n</style>\n<table border=\"1\" class=\"dataframe\">\n  <thead>\n    <tr style=\"text-align: right;\">\n      <th></th>\n      <th>crash_date</th>\n      <th>crash_time</th>\n      <th>borough</th>\n      <th>zip_code</th>\n      <th>latitude</th>\n      <th>longitude</th>\n      <th>location</th>\n      <th>on_street_name</th>\n      <th>off_street_name</th>\n      <th>cross_street_name</th>\n      <th>...</th>\n      <th>contributing_factor_vehicle_2</th>\n      <th>contributing_factor_vehicle_3</th>\n      <th>contributing_factor_vehicle_4</th>\n      <th>contributing_factor_vehicle_5</th>\n      <th>collision_id</th>\n      <th>vehicle_type_code1</th>\n      <th>vehicle_type_code2</th>\n      <th>vehicle_type_code_3</th>\n      <th>vehicle_type_code_4</th>\n      <th>vehicle_type_code_5</th>\n    </tr>\n  </thead>\n  <tbody>\n    <tr>\n      <th>0</th>\n      <td>2017-04-18T00:00:00.000</td>\n      <td>23:10</td>\n      <td>STATEN ISLAND</td>\n      <td>10312.0</td>\n      <td>40.536728</td>\n      <td>-74.193344</td>\n      <td>(40.536728, -74.193344)</td>\n      <td>NaN</td>\n      <td>NaN</td>\n      <td>243       DARLINGTON AVENUE</td>\n      <td>...</td>\n      <td>Unspecified</td>\n      <td>NaN</td>\n      <td>NaN</td>\n      <td>NaN</td>\n      <td>3654181</td>\n      <td>Station Wagon/Sport Utility Vehicle</td>\n      <td>NaN</td>\n      <td>NaN</td>\n      <td>NaN</td>\n      <td>NaN</td>\n    </tr>\n    <tr>\n      <th>1</th>\n      <td>2017-05-06T00:00:00.000</td>\n      <td>13:00</td>\n      <td>BRONX</td>\n      <td>10472.0</td>\n      <td>40.829052</td>\n      <td>-73.850380</td>\n      <td>(40.829052, -73.85038)</td>\n      <td>CASTLE HILL AVENUE</td>\n      <td>BLACKROCK AVENUE</td>\n      <td>NaN</td>\n      <td>...</td>\n      <td>NaN</td>\n      <td>NaN</td>\n      <td>NaN</td>\n      <td>NaN</td>\n      <td>3665311</td>\n      <td>Sedan</td>\n      <td>NaN</td>\n      <td>NaN</td>\n      <td>NaN</td>\n      <td>NaN</td>\n    </tr>\n    <tr>\n      <th>2</th>\n      <td>2017-04-27T00:00:00.000</td>\n      <td>17:15</td>\n      <td>QUEENS</td>\n      <td>11420.0</td>\n      <td>40.677303</td>\n      <td>-73.804565</td>\n      <td>(40.677303, -73.804565)</td>\n      <td>135 STREET</td>\n      <td>FOCH BOULEVARD</td>\n      <td>NaN</td>\n      <td>...</td>\n      <td>Unspecified</td>\n      <td>NaN</td>\n      <td>NaN</td>\n      <td>NaN</td>\n      <td>3658491</td>\n      <td>Sedan</td>\n      <td>Sedan</td>\n      <td>NaN</td>\n      <td>NaN</td>\n      <td>NaN</td>\n    </tr>\n    <tr>\n      <th>3</th>\n      <td>2017-05-09T00:00:00.000</td>\n      <td>20:10</td>\n      <td>NaN</td>\n      <td>NaN</td>\n      <td>40.624958</td>\n      <td>-74.145775</td>\n      <td>(40.624958, -74.145775)</td>\n      <td>FOREST AVENUE</td>\n      <td>RICHMOND AVENUE</td>\n      <td>NaN</td>\n      <td>...</td>\n      <td>Unspecified</td>\n      <td>Unspecified</td>\n      <td>NaN</td>\n      <td>NaN</td>\n      <td>3666554</td>\n      <td>Motorcycle</td>\n      <td>Sedan</td>\n      <td>Bus</td>\n      <td>NaN</td>\n      <td>NaN</td>\n    </tr>\n    <tr>\n      <th>4</th>\n      <td>2017-04-18T00:00:00.000</td>\n      <td>14:00</td>\n      <td>BRONX</td>\n      <td>10456.0</td>\n      <td>40.828846</td>\n      <td>-73.903120</td>\n      <td>(40.828846, -73.90312)</td>\n      <td>NaN</td>\n      <td>NaN</td>\n      <td>1167      BOSTON ROAD</td>\n      <td>...</td>\n      <td>Unspecified</td>\n      <td>NaN</td>\n      <td>NaN</td>\n      <td>NaN</td>\n      <td>3653269</td>\n      <td>Sedan</td>\n      <td>Station Wagon/Sport Utility Vehicle</td>\n      <td>NaN</td>\n      <td>NaN</td>\n      <td>NaN</td>\n    </tr>\n  </tbody>\n</table>\n<p>5 rows × 29 columns</p>\n</div>"
     },
     "metadata": {},
     "execution_count": 11
    }
   ],
   "source": [
    "print(\"0. The five first rows:\")\n",
    "df.head()"
   ]
  },
  {
   "cell_type": "code",
   "execution_count": 10,
   "metadata": {},
   "outputs": [
    {
     "output_type": "stream",
     "name": "stdout",
     "text": [
      "1. General info of dataset:\n<class 'pandas.core.frame.DataFrame'>\nRangeIndex: 100000 entries, 0 to 99999\nData columns (total 29 columns):\n #   Column                         Non-Null Count   Dtype  \n---  ------                         --------------   -----  \n 0   crash_date                     100000 non-null  object \n 1   crash_time                     100000 non-null  object \n 2   borough                        64974 non-null   object \n 3   zip_code                       64966 non-null   float64\n 4   latitude                       91965 non-null   float64\n 5   longitude                      91965 non-null   float64\n 6   location                       91965 non-null   object \n 7   on_street_name                 73991 non-null   object \n 8   off_street_name                47125 non-null   object \n 9   cross_street_name              25967 non-null   object \n 10  number_of_persons_injured      100000 non-null  int64  \n 11  number_of_persons_killed       100000 non-null  int64  \n 12  number_of_pedestrians_injured  100000 non-null  int64  \n 13  number_of_pedestrians_killed   100000 non-null  int64  \n 14  number_of_cyclist_injured      100000 non-null  int64  \n 15  number_of_cyclist_killed       100000 non-null  int64  \n 16  number_of_motorist_injured     100000 non-null  int64  \n 17  number_of_motorist_killed      100000 non-null  int64  \n 18  contributing_factor_vehicle_1  99629 non-null   object \n 19  contributing_factor_vehicle_2  80757 non-null   object \n 20  contributing_factor_vehicle_3  8761 non-null    object \n 21  contributing_factor_vehicle_4  2240 non-null    object \n 22  contributing_factor_vehicle_5  667 non-null     object \n 23  collision_id                   100000 non-null  int64  \n 24  vehicle_type_code1             99260 non-null   object \n 25  vehicle_type_code2             73411 non-null   object \n 26  vehicle_type_code_3            8329 non-null    object \n 27  vehicle_type_code_4            2147 non-null    object \n 28  vehicle_type_code_5            646 non-null     object \ndtypes: float64(3), int64(9), object(17)\nmemory usage: 22.1+ MB\n"
     ]
    }
   ],
   "source": [
    "print(\"1. General info of dataset:\")\n",
    "df.info()"
   ]
  },
  {
   "cell_type": "code",
   "execution_count": 9,
   "metadata": {},
   "outputs": [
    {
     "output_type": "stream",
     "name": "stdout",
     "text": [
      "2. Number of rows: 100000\n3. Number of original features: 29\n"
     ]
    }
   ],
   "source": [
    "print(f\"2. Number of rows: {len(df)}\")\n",
    "print(f\"3. Number of original features: {len(df.columns)}\")"
   ]
  },
  {
   "source": [
    "### Exploring missing values"
   ],
   "cell_type": "markdown",
   "metadata": {}
  },
  {
   "cell_type": "code",
   "execution_count": 79,
   "metadata": {},
   "outputs": [
    {
     "output_type": "stream",
     "name": "stdout",
     "text": [
      "4. Number of missing values in each original feature:\n"
     ]
    },
    {
     "output_type": "execute_result",
     "data": {
      "text/plain": [
       "borough                          35026\n",
       "zip_code                         35034\n",
       "latitude                          8035\n",
       "longitude                         8035\n",
       "location                          8035\n",
       "on_street_name                   26009\n",
       "off_street_name                  52875\n",
       "cross_street_name                74033\n",
       "number_of_persons_injured            0\n",
       "number_of_persons_killed             0\n",
       "number_of_pedestrians_injured        0\n",
       "number_of_pedestrians_killed         0\n",
       "number_of_cyclist_injured            0\n",
       "number_of_cyclist_killed             0\n",
       "number_of_motorist_injured           0\n",
       "number_of_motorist_killed            0\n",
       "contributing_factor_vehicle_1      371\n",
       "contributing_factor_vehicle_2    19243\n",
       "contributing_factor_vehicle_3    91239\n",
       "contributing_factor_vehicle_4    97760\n",
       "contributing_factor_vehicle_5    99333\n",
       "vehicle_type_code1                 740\n",
       "vehicle_type_code2               26589\n",
       "vehicle_type_code_3              91671\n",
       "vehicle_type_code_4              97853\n",
       "vehicle_type_code_5              99354\n",
       "crash_datetime                       0\n",
       "dtype: int64"
      ]
     },
     "metadata": {},
     "execution_count": 79
    }
   ],
   "source": [
    "print(\"4. Number of missing values in each original feature:\")\n",
    "df.isnull().sum()"
   ]
  },
  {
   "cell_type": "code",
   "execution_count": 14,
   "metadata": {},
   "outputs": [
    {
     "output_type": "stream",
     "name": "stdout",
     "text": [
      "5. Data type of each original feature:\n"
     ]
    },
    {
     "output_type": "execute_result",
     "data": {
      "text/plain": [
       "crash_date                        object\n",
       "crash_time                        object\n",
       "borough                           object\n",
       "zip_code                         float64\n",
       "latitude                         float64\n",
       "longitude                        float64\n",
       "location                          object\n",
       "on_street_name                    object\n",
       "off_street_name                   object\n",
       "cross_street_name                 object\n",
       "number_of_persons_injured          int64\n",
       "number_of_persons_killed           int64\n",
       "number_of_pedestrians_injured      int64\n",
       "number_of_pedestrians_killed       int64\n",
       "number_of_cyclist_injured          int64\n",
       "number_of_cyclist_killed           int64\n",
       "number_of_motorist_injured         int64\n",
       "number_of_motorist_killed          int64\n",
       "contributing_factor_vehicle_1     object\n",
       "contributing_factor_vehicle_2     object\n",
       "contributing_factor_vehicle_3     object\n",
       "contributing_factor_vehicle_4     object\n",
       "contributing_factor_vehicle_5     object\n",
       "collision_id                       int64\n",
       "vehicle_type_code1                object\n",
       "vehicle_type_code2                object\n",
       "vehicle_type_code_3               object\n",
       "vehicle_type_code_4               object\n",
       "vehicle_type_code_5               object\n",
       "dtype: object"
      ]
     },
     "metadata": {},
     "execution_count": 14
    }
   ],
   "source": [
    "print(\"5. Data type of each original feature:\")\n",
    "df.dtypes"
   ]
  },
  {
   "cell_type": "code",
   "execution_count": 16,
   "metadata": {},
   "outputs": [
    {
     "output_type": "stream",
     "name": "stdout",
     "text": [
      "6. Number of unique values of each original feature:\nNaN non included\n"
     ]
    },
    {
     "output_type": "execute_result",
     "data": {
      "text/plain": [
       "crash_date                          551\n",
       "crash_time                         1440\n",
       "borough                               5\n",
       "zip_code                            203\n",
       "latitude                          33675\n",
       "longitude                         26494\n",
       "location                          44605\n",
       "on_street_name                     4327\n",
       "off_street_name                    4897\n",
       "cross_street_name                 22829\n",
       "number_of_persons_injured            13\n",
       "number_of_persons_killed              4\n",
       "number_of_pedestrians_injured         7\n",
       "number_of_pedestrians_killed          2\n",
       "number_of_cyclist_injured             4\n",
       "number_of_cyclist_killed              2\n",
       "number_of_motorist_injured           13\n",
       "number_of_motorist_killed             4\n",
       "contributing_factor_vehicle_1        54\n",
       "contributing_factor_vehicle_2        47\n",
       "contributing_factor_vehicle_3        30\n",
       "contributing_factor_vehicle_4        12\n",
       "contributing_factor_vehicle_5         9\n",
       "collision_id                     100000\n",
       "vehicle_type_code1                  366\n",
       "vehicle_type_code2                  385\n",
       "vehicle_type_code_3                  64\n",
       "vehicle_type_code_4                  31\n",
       "vehicle_type_code_5                  18\n",
       "dtype: int64"
      ]
     },
     "metadata": {},
     "execution_count": 16
    }
   ],
   "source": [
    "print(\"6. Number of unique values of each original feature:\")\n",
    "print(\"NaN non included\")\n",
    "df.nunique()"
   ]
  },
  {
   "cell_type": "code",
   "execution_count": 19,
   "metadata": {},
   "outputs": [
    {
     "output_type": "stream",
     "name": "stdout",
     "text": [
      "Unique values of original features with less than 204 unique values:\n#################### borough ####################\n['STATEN ISLAND' 'BRONX' 'QUEENS' nan 'BROOKLYN' 'MANHATTAN']\n\n#################### zip_code ####################\n[10312. 10472. 11420.    nan 10456. 11203. 10474. 10301. 11223. 11234.\n 10463. 11419. 10453. 11434. 11207. 10019. 10309. 11422. 11233. 11417.\n 11691. 11358. 10013. 11226. 10002. 10038. 10461. 11214. 10033. 11206.\n 11221. 10467. 10011. 10017. 11355. 10027. 11378. 11224. 10305. 10021.\n 10035. 11213. 11208. 10036. 11101. 10009. 11235. 11377. 10470. 11219.\n 10001. 11228. 11215. 11217. 11372. 11379. 10460. 11205. 10468. 11416.\n 10469. 11429. 10007. 11231. 11236. 10459. 10462. 10012. 11229. 10031.\n 11238. 11369. 11423. 10026. 10018. 11365. 11370. 11421. 11209. 10465.\n 10025. 10458. 10308. 11375. 10034. 11216. 10455. 11354. 11230. 10003.\n 10471. 11222. 10304. 10457. 11428. 11212. 11418. 11210. 10006. 11360.\n 10022. 10452. 10016. 11201. 11432. 10466. 10020. 11232. 11367. 11220.\n 11218. 11211. 11364. 10454. 10010. 10037. 11368. 10307. 10023. 10473.\n 11361. 11693. 10029. 11435. 10314. 11385. 11373. 11103. 10310. 10028.\n 10039. 10475. 11412. 11374. 11433. 10128. 10075. 10024. 10030. 11102.\n 10004. 10451. 11411. 11413. 11225. 11426. 11357. 11356. 10040. 11249.\n 11692. 11366. 11237. 11105. 11362. 11204. 11001. 10032. 11427. 10464.\n 10065. 11415. 11436. 11414. 11106. 10005. 10000. 10014. 11104. 10306.\n 11004. 10119. 10172. 11694. 11697. 11239. 11040. 11363. 10278. 10302.\n 10165. 10168. 10069. 10121. 10167. 11109. 10280. 11430. 11005. 10281.\n 10282. 10041. 10105. 10279. 10103. 10271. 10123. 10154. 11251. 11695.\n 11359. 10153. 10118. 10169.]\n\n#################### number_of_persons_injured ####################\n[ 0  1  3  8  2  4  5  6  7  9 11 15 10]\n\n#################### number_of_persons_killed ####################\n[0 1 2 3]\n\n#################### number_of_pedestrians_injured ####################\n[0 1 2 3 6 5 4]\n\n#################### number_of_pedestrians_killed ####################\n[0 1]\n\n#################### number_of_cyclist_injured ####################\n[0 1 3 2]\n\n#################### number_of_cyclist_killed ####################\n[0 1]\n\n#################### number_of_motorist_injured ####################\n[ 0  1  3  8  2  4  5  6  7  9 11 15 10]\n\n#################### number_of_motorist_killed ####################\n[0 1 2 3]\n\n#################### contributing_factor_vehicle_1 ####################\n['Driver Inattention/Distraction' 'Failure to Yield Right-of-Way'\n 'Unspecified' 'Unsafe Lane Changing' 'Passing or Lane Usage Improper'\n 'Other Vehicular' 'Passing Too Closely' 'Backing Unsafely'\n 'Traffic Control Disregarded' 'Driver Inexperience' 'Unsafe Speed'\n 'Following Too Closely' 'Obstruction/Debris' 'Turning Improperly'\n 'Pedestrian/Bicyclist/Other Pedestrian Error/Confusion'\n 'Pavement Slippery' 'Aggressive Driving/Road Rage'\n 'Reaction to Uninvolved Vehicle' 'Steering Failure' 'Oversized Vehicle'\n 'View Obstructed/Limited' 'Traffic Control Device Improper/Non-Working'\n 'Fell Asleep' 'Glare' 'Passenger Distraction' 'Accelerator Defective'\n 'Failure to Keep Right' 'Alcohol Involvement' 'Outside Car Distraction'\n 'Brakes Defective' nan 'Pavement Defective' 'Driverless/Runaway Vehicle'\n 'Fatigued/Drowsy' 'Animals Action' 'Tire Failure/Inadequate'\n 'Lane Marking Improper/Inadequate' 'Physical Disability' 'Illnes'\n 'Cell Phone (hand-Held)' 'Lost Consciousness' 'Drugs (illegal)'\n 'Other Lighting Defects' 'Shoulders Defective/Improper' 'Tinted Windows'\n 'Using On Board Navigation Device' 'Cell Phone (hands-free)'\n 'Vehicle Vandalism' 'Tow Hitch Defective' 'Prescription Medication'\n 'Listening/Using Headphones' 'Eating or Drinking' 'Headlights Defective'\n 'Other Electronic Device' 'Windshield Inadequate']\n\n#################### contributing_factor_vehicle_2 ####################\n['Unspecified' nan 'Other Vehicular' 'Failure to Yield Right-of-Way'\n 'Backing Unsafely' 'Driver Inattention/Distraction' 'Turning Improperly'\n 'Unsafe Lane Changing' 'Following Too Closely' 'Pavement Slippery'\n 'Aggressive Driving/Road Rage'\n 'Traffic Control Device Improper/Non-Working' 'Passing Too Closely'\n 'Passing or Lane Usage Improper'\n 'Pedestrian/Bicyclist/Other Pedestrian Error/Confusion'\n 'Driver Inexperience' 'Unsafe Speed' 'Oversized Vehicle'\n 'Passenger Distraction' 'Outside Car Distraction'\n 'Traffic Control Disregarded' 'Reaction to Uninvolved Vehicle'\n 'Obstruction/Debris' 'Failure to Keep Right' 'Fatigued/Drowsy'\n 'Alcohol Involvement' 'View Obstructed/Limited' 'Glare'\n 'Lane Marking Improper/Inadequate' 'Illnes' 'Accelerator Defective'\n 'Pavement Defective' 'Tire Failure/Inadequate' 'Brakes Defective'\n 'Tow Hitch Defective' 'Driverless/Runaway Vehicle' 'Animals Action'\n 'Lost Consciousness' 'Tinted Windows' 'Using On Board Navigation Device'\n 'Headlights Defective' 'Fell Asleep' 'Listening/Using Headphones'\n 'Other Lighting Defects' 'Steering Failure' 'Drugs (illegal)'\n 'Cell Phone (hand-Held)' 'Other Electronic Device']\n\n#################### contributing_factor_vehicle_3 ####################\n[nan 'Unspecified' 'Following Too Closely' 'Pavement Slippery'\n 'Other Vehicular' 'Outside Car Distraction'\n 'Driver Inattention/Distraction' 'Obstruction/Debris'\n 'Aggressive Driving/Road Rage' 'Oversized Vehicle' 'Drugs (illegal)'\n 'Reaction to Uninvolved Vehicle' 'Unsafe Speed' 'Glare'\n 'Driver Inexperience' 'Passing or Lane Usage Improper'\n 'Failure to Yield Right-of-Way' 'Unsafe Lane Changing'\n 'Traffic Control Disregarded' 'Driverless/Runaway Vehicle'\n 'Turning Improperly' 'Traffic Control Device Improper/Non-Working'\n 'Failure to Keep Right' 'Passing Too Closely'\n 'Pedestrian/Bicyclist/Other Pedestrian Error/Confusion'\n 'View Obstructed/Limited' 'Backing Unsafely' 'Other Electronic Device'\n 'Alcohol Involvement' 'Passenger Distraction' 'Brakes Defective']\n\n#################### contributing_factor_vehicle_4 ####################\n[nan 'Unspecified' 'Following Too Closely'\n 'Driver Inattention/Distraction' 'Other Vehicular' 'Unsafe Speed'\n 'Reaction to Uninvolved Vehicle' 'Pavement Slippery' 'Obstruction/Debris'\n 'Outside Car Distraction' 'Backing Unsafely'\n 'Aggressive Driving/Road Rage' 'Alcohol Involvement']\n\n#################### contributing_factor_vehicle_5 ####################\n[nan 'Unspecified' 'Following Too Closely' 'Unsafe Speed'\n 'Other Vehicular' 'Reaction to Uninvolved Vehicle' 'Pavement Slippery'\n 'Driver Inattention/Distraction' 'Obstruction/Debris'\n 'Passing Too Closely']\n\n#################### vehicle_type_code_3 ####################\n[nan 'Bus' 'Sedan' 'Station Wagon/Sport Utility Vehicle' 'Taxi' 'Van'\n 'Bike' 'Tractor Truck Gasoline' 'Pick-up Truck' 'van' 'bus' 'Box Truck'\n 'Carry All' 'Dump' 'Ambulance' 'PK' 'Convertible' 'Motorcycle'\n 'Open Body' 'Fire' 'E-Bik' 'FOOD' 'DELIV' 'box t' 'Tractor Truck Diesel'\n 'SCHOO' 'Moped' 'PASSENGER VEHICLE' 'Motorscooter' 'Motorbike' 'AMBUL'\n 'Flat Bed' 'Lift Boom' 'TRAIL' 'hrse' 'Trail' 'LIMO'\n 'Tow Truck / Wrecker' 'Flat Rack' 'E-Scooter' 'Refrigerated Van'\n '4 dr sedan' 'Garbage or Refuse' 'Beverage Truck' 'TRUCK' 'E-BIKE'\n 'AMBULANCE' 'Tanker' '3-Door' 'E-Bike' 'Stake or Rack' 'CARGO VAN'\n 'unknown' 'TRAILER' 'Concrete Mixer' 'UHAUL Trai' 'FIRE TRUCK'\n 'UNATTACHED' 'Multi-Wheeled Vehicle' 'UHAUL BOX' 'trailer' 'CONCRETE M'\n 'FDNY FIRET' 'MTA BUS' 'Pallet']\n\n#################### vehicle_type_code_4 ####################\n[nan 'Station Wagon/Sport Utility Vehicle' 'Sedan' 'Taxi' 'Pick-up Truck'\n 'Box Truck' 'Lift Boom' 'Tractor Truck Diesel' 'Convertible' 'TOYOT'\n 'Motorcycle' 'Bus' 'Ambulance' 'SPORT UTILITY / STATION WAGON'\n 'Motorscooter' 'Dump' 'Van' 'Refrigerated Van' 'Bike' 'E-Scooter'\n 'FLATBED TR' 'E-Bike' 'trailor' 'CARGO VAN' 'TRAILER' 'LIMO' 'Carry All'\n 'Box' '4 dr sedan' 'FDNY' 'Open Body' 'Chassis Cab']\n\n#################### vehicle_type_code_5 ####################\n[nan 'Sedan' 'Station Wagon/Sport Utility Vehicle' 'Pick-up Truck' 'Bus'\n 'Motorcycle' 'Wagon' 'Taxi' 'back' 'Box Truck' 'Convertible' 'Ambulance'\n 'PK' 'Van' 'Tractor Truck Diesel' 'Motorscooter' 'Box truck' 'E-Scooter'\n 'BOX Truck']\n\n"
     ]
    }
   ],
   "source": [
    "print(\"7. Unique values of original features with less than 204 unique values:\")\n",
    "for column in df.columns:\n",
    "    if df[column].nunique() < 204:\n",
    "        print(f\"#################### {column} ####################\")\n",
    "        print(df[column].unique())\n",
    "        print()"
   ]
  },
  {
   "cell_type": "code",
   "execution_count": 21,
   "metadata": {},
   "outputs": [
    {
     "output_type": "stream",
     "name": "stdout",
     "text": [
      "8. Statistical info of each original feature:\n"
     ]
    },
    {
     "output_type": "execute_result",
     "data": {
      "text/plain": [
       "                                  count unique  \\\n",
       "crash_date                       100000    551   \n",
       "crash_time                       100000   1440   \n",
       "borough                           64974      5   \n",
       "zip_code                        64966.0    NaN   \n",
       "latitude                        91965.0    NaN   \n",
       "longitude                       91965.0    NaN   \n",
       "location                          91965  44605   \n",
       "on_street_name                    73991   4327   \n",
       "off_street_name                   47125   4897   \n",
       "cross_street_name                 25967  22829   \n",
       "number_of_persons_injured      100000.0    NaN   \n",
       "number_of_persons_killed       100000.0    NaN   \n",
       "number_of_pedestrians_injured  100000.0    NaN   \n",
       "number_of_pedestrians_killed   100000.0    NaN   \n",
       "number_of_cyclist_injured      100000.0    NaN   \n",
       "number_of_cyclist_killed       100000.0    NaN   \n",
       "number_of_motorist_injured     100000.0    NaN   \n",
       "number_of_motorist_killed      100000.0    NaN   \n",
       "contributing_factor_vehicle_1     99629     54   \n",
       "contributing_factor_vehicle_2     80757     47   \n",
       "contributing_factor_vehicle_3      8761     30   \n",
       "contributing_factor_vehicle_4      2240     12   \n",
       "contributing_factor_vehicle_5       667      9   \n",
       "collision_id                   100000.0    NaN   \n",
       "vehicle_type_code1                99260    366   \n",
       "vehicle_type_code2                73411    385   \n",
       "vehicle_type_code_3                8329     64   \n",
       "vehicle_type_code_4                2147     31   \n",
       "vehicle_type_code_5                 646     18   \n",
       "\n",
       "                                                                    top  \\\n",
       "crash_date                                      2019-07-19T00:00:00.000   \n",
       "crash_time                                                         0:00   \n",
       "borough                                                        BROOKLYN   \n",
       "zip_code                                                            NaN   \n",
       "latitude                                                            NaN   \n",
       "longitude                                                           NaN   \n",
       "location                                                     (0.0, 0.0)   \n",
       "on_street_name                         BELT PARKWAY                       \n",
       "off_street_name                                                3 AVENUE   \n",
       "cross_street_name              772       EDGEWATER ROAD                   \n",
       "number_of_persons_injured                                           NaN   \n",
       "number_of_persons_killed                                            NaN   \n",
       "number_of_pedestrians_injured                                       NaN   \n",
       "number_of_pedestrians_killed                                        NaN   \n",
       "number_of_cyclist_injured                                           NaN   \n",
       "number_of_cyclist_killed                                            NaN   \n",
       "number_of_motorist_injured                                          NaN   \n",
       "number_of_motorist_killed                                           NaN   \n",
       "contributing_factor_vehicle_1            Driver Inattention/Distraction   \n",
       "contributing_factor_vehicle_2                               Unspecified   \n",
       "contributing_factor_vehicle_3                               Unspecified   \n",
       "contributing_factor_vehicle_4                               Unspecified   \n",
       "contributing_factor_vehicle_5                               Unspecified   \n",
       "collision_id                                                        NaN   \n",
       "vehicle_type_code1                                                Sedan   \n",
       "vehicle_type_code2                                                Sedan   \n",
       "vehicle_type_code_3                                               Sedan   \n",
       "vehicle_type_code_4                                               Sedan   \n",
       "vehicle_type_code_5                                               Sedan   \n",
       "\n",
       "                                freq           mean            std        min  \\\n",
       "crash_date                       664            NaN            NaN        NaN   \n",
       "crash_time                      1637            NaN            NaN        NaN   \n",
       "borough                        22118            NaN            NaN        NaN   \n",
       "zip_code                         NaN   10901.653188     523.494905    10000.0   \n",
       "latitude                         NaN      40.651917       1.746143        0.0   \n",
       "longitude                        NaN     -73.781995       3.276307 -201.23706   \n",
       "location                         169            NaN            NaN        NaN   \n",
       "on_street_name                  1616            NaN            NaN        NaN   \n",
       "off_street_name                  432            NaN            NaN        NaN   \n",
       "cross_street_name                 35            NaN            NaN        NaN   \n",
       "number_of_persons_injured        NaN        0.37196       0.743916        0.0   \n",
       "number_of_persons_killed         NaN        0.00193       0.046112        0.0   \n",
       "number_of_pedestrians_injured    NaN        0.04739       0.223438        0.0   \n",
       "number_of_pedestrians_killed     NaN        0.00064        0.02529        0.0   \n",
       "number_of_cyclist_injured        NaN        0.04964       0.222343        0.0   \n",
       "number_of_cyclist_killed         NaN        0.00025       0.015809        0.0   \n",
       "number_of_motorist_injured       NaN        0.27492       0.711058        0.0   \n",
       "number_of_motorist_killed        NaN        0.00104       0.034913        0.0   \n",
       "contributing_factor_vehicle_1  25605            NaN            NaN        NaN   \n",
       "contributing_factor_vehicle_2  67739            NaN            NaN        NaN   \n",
       "contributing_factor_vehicle_3   8197            NaN            NaN        NaN   \n",
       "contributing_factor_vehicle_4   2107            NaN            NaN        NaN   \n",
       "contributing_factor_vehicle_5    622            NaN            NaN        NaN   \n",
       "collision_id                     NaN  4226109.34064  165356.051121     2568.0   \n",
       "vehicle_type_code1             46790            NaN            NaN        NaN   \n",
       "vehicle_type_code2             31369            NaN            NaN        NaN   \n",
       "vehicle_type_code_3             4129            NaN            NaN        NaN   \n",
       "vehicle_type_code_4             1143            NaN            NaN        NaN   \n",
       "vehicle_type_code_5              326            NaN            NaN        NaN   \n",
       "\n",
       "                                      25%        50%         75%        max  \n",
       "crash_date                            NaN        NaN         NaN        NaN  \n",
       "crash_time                            NaN        NaN         NaN        NaN  \n",
       "borough                               NaN        NaN         NaN        NaN  \n",
       "zip_code                          10457.0    11209.0     11354.0    11697.0  \n",
       "latitude                        40.667915  40.717724   40.785595   40.91217  \n",
       "longitude                       -73.96087  -73.91811   -73.86286        0.0  \n",
       "location                              NaN        NaN         NaN        NaN  \n",
       "on_street_name                        NaN        NaN         NaN        NaN  \n",
       "off_street_name                       NaN        NaN         NaN        NaN  \n",
       "cross_street_name                     NaN        NaN         NaN        NaN  \n",
       "number_of_persons_injured             0.0        0.0         1.0       15.0  \n",
       "number_of_persons_killed              0.0        0.0         0.0        3.0  \n",
       "number_of_pedestrians_injured         0.0        0.0         0.0        6.0  \n",
       "number_of_pedestrians_killed          0.0        0.0         0.0        1.0  \n",
       "number_of_cyclist_injured             0.0        0.0         0.0        3.0  \n",
       "number_of_cyclist_killed              0.0        0.0         0.0        1.0  \n",
       "number_of_motorist_injured            0.0        0.0         0.0       15.0  \n",
       "number_of_motorist_killed             0.0        0.0         0.0        3.0  \n",
       "contributing_factor_vehicle_1         NaN        NaN         NaN        NaN  \n",
       "contributing_factor_vehicle_2         NaN        NaN         NaN        NaN  \n",
       "contributing_factor_vehicle_3         NaN        NaN         NaN        NaN  \n",
       "contributing_factor_vehicle_4         NaN        NaN         NaN        NaN  \n",
       "contributing_factor_vehicle_5         NaN        NaN         NaN        NaN  \n",
       "collision_id                   4182342.75  4300224.0  4328315.25  4353706.0  \n",
       "vehicle_type_code1                    NaN        NaN         NaN        NaN  \n",
       "vehicle_type_code2                    NaN        NaN         NaN        NaN  \n",
       "vehicle_type_code_3                   NaN        NaN         NaN        NaN  \n",
       "vehicle_type_code_4                   NaN        NaN         NaN        NaN  \n",
       "vehicle_type_code_5                   NaN        NaN         NaN        NaN  "
      ],
      "text/html": "<div>\n<style scoped>\n    .dataframe tbody tr th:only-of-type {\n        vertical-align: middle;\n    }\n\n    .dataframe tbody tr th {\n        vertical-align: top;\n    }\n\n    .dataframe thead th {\n        text-align: right;\n    }\n</style>\n<table border=\"1\" class=\"dataframe\">\n  <thead>\n    <tr style=\"text-align: right;\">\n      <th></th>\n      <th>count</th>\n      <th>unique</th>\n      <th>top</th>\n      <th>freq</th>\n      <th>mean</th>\n      <th>std</th>\n      <th>min</th>\n      <th>25%</th>\n      <th>50%</th>\n      <th>75%</th>\n      <th>max</th>\n    </tr>\n  </thead>\n  <tbody>\n    <tr>\n      <th>crash_date</th>\n      <td>100000</td>\n      <td>551</td>\n      <td>2019-07-19T00:00:00.000</td>\n      <td>664</td>\n      <td>NaN</td>\n      <td>NaN</td>\n      <td>NaN</td>\n      <td>NaN</td>\n      <td>NaN</td>\n      <td>NaN</td>\n      <td>NaN</td>\n    </tr>\n    <tr>\n      <th>crash_time</th>\n      <td>100000</td>\n      <td>1440</td>\n      <td>0:00</td>\n      <td>1637</td>\n      <td>NaN</td>\n      <td>NaN</td>\n      <td>NaN</td>\n      <td>NaN</td>\n      <td>NaN</td>\n      <td>NaN</td>\n      <td>NaN</td>\n    </tr>\n    <tr>\n      <th>borough</th>\n      <td>64974</td>\n      <td>5</td>\n      <td>BROOKLYN</td>\n      <td>22118</td>\n      <td>NaN</td>\n      <td>NaN</td>\n      <td>NaN</td>\n      <td>NaN</td>\n      <td>NaN</td>\n      <td>NaN</td>\n      <td>NaN</td>\n    </tr>\n    <tr>\n      <th>zip_code</th>\n      <td>64966.0</td>\n      <td>NaN</td>\n      <td>NaN</td>\n      <td>NaN</td>\n      <td>10901.653188</td>\n      <td>523.494905</td>\n      <td>10000.0</td>\n      <td>10457.0</td>\n      <td>11209.0</td>\n      <td>11354.0</td>\n      <td>11697.0</td>\n    </tr>\n    <tr>\n      <th>latitude</th>\n      <td>91965.0</td>\n      <td>NaN</td>\n      <td>NaN</td>\n      <td>NaN</td>\n      <td>40.651917</td>\n      <td>1.746143</td>\n      <td>0.0</td>\n      <td>40.667915</td>\n      <td>40.717724</td>\n      <td>40.785595</td>\n      <td>40.91217</td>\n    </tr>\n    <tr>\n      <th>longitude</th>\n      <td>91965.0</td>\n      <td>NaN</td>\n      <td>NaN</td>\n      <td>NaN</td>\n      <td>-73.781995</td>\n      <td>3.276307</td>\n      <td>-201.23706</td>\n      <td>-73.96087</td>\n      <td>-73.91811</td>\n      <td>-73.86286</td>\n      <td>0.0</td>\n    </tr>\n    <tr>\n      <th>location</th>\n      <td>91965</td>\n      <td>44605</td>\n      <td>(0.0, 0.0)</td>\n      <td>169</td>\n      <td>NaN</td>\n      <td>NaN</td>\n      <td>NaN</td>\n      <td>NaN</td>\n      <td>NaN</td>\n      <td>NaN</td>\n      <td>NaN</td>\n    </tr>\n    <tr>\n      <th>on_street_name</th>\n      <td>73991</td>\n      <td>4327</td>\n      <td>BELT PARKWAY</td>\n      <td>1616</td>\n      <td>NaN</td>\n      <td>NaN</td>\n      <td>NaN</td>\n      <td>NaN</td>\n      <td>NaN</td>\n      <td>NaN</td>\n      <td>NaN</td>\n    </tr>\n    <tr>\n      <th>off_street_name</th>\n      <td>47125</td>\n      <td>4897</td>\n      <td>3 AVENUE</td>\n      <td>432</td>\n      <td>NaN</td>\n      <td>NaN</td>\n      <td>NaN</td>\n      <td>NaN</td>\n      <td>NaN</td>\n      <td>NaN</td>\n      <td>NaN</td>\n    </tr>\n    <tr>\n      <th>cross_street_name</th>\n      <td>25967</td>\n      <td>22829</td>\n      <td>772       EDGEWATER ROAD</td>\n      <td>35</td>\n      <td>NaN</td>\n      <td>NaN</td>\n      <td>NaN</td>\n      <td>NaN</td>\n      <td>NaN</td>\n      <td>NaN</td>\n      <td>NaN</td>\n    </tr>\n    <tr>\n      <th>number_of_persons_injured</th>\n      <td>100000.0</td>\n      <td>NaN</td>\n      <td>NaN</td>\n      <td>NaN</td>\n      <td>0.37196</td>\n      <td>0.743916</td>\n      <td>0.0</td>\n      <td>0.0</td>\n      <td>0.0</td>\n      <td>1.0</td>\n      <td>15.0</td>\n    </tr>\n    <tr>\n      <th>number_of_persons_killed</th>\n      <td>100000.0</td>\n      <td>NaN</td>\n      <td>NaN</td>\n      <td>NaN</td>\n      <td>0.00193</td>\n      <td>0.046112</td>\n      <td>0.0</td>\n      <td>0.0</td>\n      <td>0.0</td>\n      <td>0.0</td>\n      <td>3.0</td>\n    </tr>\n    <tr>\n      <th>number_of_pedestrians_injured</th>\n      <td>100000.0</td>\n      <td>NaN</td>\n      <td>NaN</td>\n      <td>NaN</td>\n      <td>0.04739</td>\n      <td>0.223438</td>\n      <td>0.0</td>\n      <td>0.0</td>\n      <td>0.0</td>\n      <td>0.0</td>\n      <td>6.0</td>\n    </tr>\n    <tr>\n      <th>number_of_pedestrians_killed</th>\n      <td>100000.0</td>\n      <td>NaN</td>\n      <td>NaN</td>\n      <td>NaN</td>\n      <td>0.00064</td>\n      <td>0.02529</td>\n      <td>0.0</td>\n      <td>0.0</td>\n      <td>0.0</td>\n      <td>0.0</td>\n      <td>1.0</td>\n    </tr>\n    <tr>\n      <th>number_of_cyclist_injured</th>\n      <td>100000.0</td>\n      <td>NaN</td>\n      <td>NaN</td>\n      <td>NaN</td>\n      <td>0.04964</td>\n      <td>0.222343</td>\n      <td>0.0</td>\n      <td>0.0</td>\n      <td>0.0</td>\n      <td>0.0</td>\n      <td>3.0</td>\n    </tr>\n    <tr>\n      <th>number_of_cyclist_killed</th>\n      <td>100000.0</td>\n      <td>NaN</td>\n      <td>NaN</td>\n      <td>NaN</td>\n      <td>0.00025</td>\n      <td>0.015809</td>\n      <td>0.0</td>\n      <td>0.0</td>\n      <td>0.0</td>\n      <td>0.0</td>\n      <td>1.0</td>\n    </tr>\n    <tr>\n      <th>number_of_motorist_injured</th>\n      <td>100000.0</td>\n      <td>NaN</td>\n      <td>NaN</td>\n      <td>NaN</td>\n      <td>0.27492</td>\n      <td>0.711058</td>\n      <td>0.0</td>\n      <td>0.0</td>\n      <td>0.0</td>\n      <td>0.0</td>\n      <td>15.0</td>\n    </tr>\n    <tr>\n      <th>number_of_motorist_killed</th>\n      <td>100000.0</td>\n      <td>NaN</td>\n      <td>NaN</td>\n      <td>NaN</td>\n      <td>0.00104</td>\n      <td>0.034913</td>\n      <td>0.0</td>\n      <td>0.0</td>\n      <td>0.0</td>\n      <td>0.0</td>\n      <td>3.0</td>\n    </tr>\n    <tr>\n      <th>contributing_factor_vehicle_1</th>\n      <td>99629</td>\n      <td>54</td>\n      <td>Driver Inattention/Distraction</td>\n      <td>25605</td>\n      <td>NaN</td>\n      <td>NaN</td>\n      <td>NaN</td>\n      <td>NaN</td>\n      <td>NaN</td>\n      <td>NaN</td>\n      <td>NaN</td>\n    </tr>\n    <tr>\n      <th>contributing_factor_vehicle_2</th>\n      <td>80757</td>\n      <td>47</td>\n      <td>Unspecified</td>\n      <td>67739</td>\n      <td>NaN</td>\n      <td>NaN</td>\n      <td>NaN</td>\n      <td>NaN</td>\n      <td>NaN</td>\n      <td>NaN</td>\n      <td>NaN</td>\n    </tr>\n    <tr>\n      <th>contributing_factor_vehicle_3</th>\n      <td>8761</td>\n      <td>30</td>\n      <td>Unspecified</td>\n      <td>8197</td>\n      <td>NaN</td>\n      <td>NaN</td>\n      <td>NaN</td>\n      <td>NaN</td>\n      <td>NaN</td>\n      <td>NaN</td>\n      <td>NaN</td>\n    </tr>\n    <tr>\n      <th>contributing_factor_vehicle_4</th>\n      <td>2240</td>\n      <td>12</td>\n      <td>Unspecified</td>\n      <td>2107</td>\n      <td>NaN</td>\n      <td>NaN</td>\n      <td>NaN</td>\n      <td>NaN</td>\n      <td>NaN</td>\n      <td>NaN</td>\n      <td>NaN</td>\n    </tr>\n    <tr>\n      <th>contributing_factor_vehicle_5</th>\n      <td>667</td>\n      <td>9</td>\n      <td>Unspecified</td>\n      <td>622</td>\n      <td>NaN</td>\n      <td>NaN</td>\n      <td>NaN</td>\n      <td>NaN</td>\n      <td>NaN</td>\n      <td>NaN</td>\n      <td>NaN</td>\n    </tr>\n    <tr>\n      <th>collision_id</th>\n      <td>100000.0</td>\n      <td>NaN</td>\n      <td>NaN</td>\n      <td>NaN</td>\n      <td>4226109.34064</td>\n      <td>165356.051121</td>\n      <td>2568.0</td>\n      <td>4182342.75</td>\n      <td>4300224.0</td>\n      <td>4328315.25</td>\n      <td>4353706.0</td>\n    </tr>\n    <tr>\n      <th>vehicle_type_code1</th>\n      <td>99260</td>\n      <td>366</td>\n      <td>Sedan</td>\n      <td>46790</td>\n      <td>NaN</td>\n      <td>NaN</td>\n      <td>NaN</td>\n      <td>NaN</td>\n      <td>NaN</td>\n      <td>NaN</td>\n      <td>NaN</td>\n    </tr>\n    <tr>\n      <th>vehicle_type_code2</th>\n      <td>73411</td>\n      <td>385</td>\n      <td>Sedan</td>\n      <td>31369</td>\n      <td>NaN</td>\n      <td>NaN</td>\n      <td>NaN</td>\n      <td>NaN</td>\n      <td>NaN</td>\n      <td>NaN</td>\n      <td>NaN</td>\n    </tr>\n    <tr>\n      <th>vehicle_type_code_3</th>\n      <td>8329</td>\n      <td>64</td>\n      <td>Sedan</td>\n      <td>4129</td>\n      <td>NaN</td>\n      <td>NaN</td>\n      <td>NaN</td>\n      <td>NaN</td>\n      <td>NaN</td>\n      <td>NaN</td>\n      <td>NaN</td>\n    </tr>\n    <tr>\n      <th>vehicle_type_code_4</th>\n      <td>2147</td>\n      <td>31</td>\n      <td>Sedan</td>\n      <td>1143</td>\n      <td>NaN</td>\n      <td>NaN</td>\n      <td>NaN</td>\n      <td>NaN</td>\n      <td>NaN</td>\n      <td>NaN</td>\n      <td>NaN</td>\n    </tr>\n    <tr>\n      <th>vehicle_type_code_5</th>\n      <td>646</td>\n      <td>18</td>\n      <td>Sedan</td>\n      <td>326</td>\n      <td>NaN</td>\n      <td>NaN</td>\n      <td>NaN</td>\n      <td>NaN</td>\n      <td>NaN</td>\n      <td>NaN</td>\n      <td>NaN</td>\n    </tr>\n  </tbody>\n</table>\n</div>"
     },
     "metadata": {},
     "execution_count": 21
    }
   ],
   "source": [
    "print(\"8. Statistical info of each original feature:\")\n",
    "df.describe(include='all').T"
   ]
  },
  {
   "cell_type": "code",
   "execution_count": 23,
   "metadata": {},
   "outputs": [
    {
     "output_type": "stream",
     "name": "stdout",
     "text": [
      "9. Duplicates in the dataset? \n"
     ]
    },
    {
     "output_type": "execute_result",
     "data": {
      "text/plain": [
       "False"
      ]
     },
     "metadata": {},
     "execution_count": 23
    }
   ],
   "source": [
    "print(\"9. Duplicates in the dataset? \")\n",
    "df.duplicated().any()"
   ]
  },
  {
   "source": [
    "### Explore deeper missing values\n"
   ],
   "cell_type": "markdown",
   "metadata": {}
  },
  {
   "cell_type": "code",
   "execution_count": 55,
   "metadata": {},
   "outputs": [
    {
     "output_type": "execute_result",
     "data": {
      "text/plain": [
       "True"
      ]
     },
     "metadata": {},
     "execution_count": 55
    }
   ],
   "source": [
    "# Check if: all `street_name` features has at least one missing value\n",
    "cols = [\"on_street_name\", \"off_street_name\", \"cross_street_name\"]\n",
    "# df[cols].notnull().all(axis=1).any()\n",
    "df[cols].isnull().any(axis=1).all()"
   ]
  },
  {
   "cell_type": "code",
   "execution_count": 49,
   "metadata": {},
   "outputs": [
    {
     "output_type": "execute_result",
     "data": {
      "text/plain": [
       "on_street_name     False\n",
       "off_street_name    False\n",
       "dtype: bool"
      ]
     },
     "metadata": {},
     "execution_count": 49
    }
   ],
   "source": [
    "# Check if: when `cross_street_name` is not null, any `on_street_name` and `off_street_name` exists\n",
    "(df[cols].groupby([\"cross_street_name\"]).count() > 0).any()"
   ]
  },
  {
   "cell_type": "code",
   "execution_count": 63,
   "metadata": {},
   "outputs": [
    {
     "output_type": "execute_result",
     "data": {
      "text/plain": [
       "          borough  zip_code   latitude  longitude                 location  \\\n",
       "0   STATEN ISLAND   10312.0  40.536728 -74.193344  (40.536728, -74.193344)   \n",
       "4           BRONX   10456.0  40.828846 -73.903120   (40.828846, -73.90312)   \n",
       "9           BRONX   10474.0  40.816864 -73.882744  (40.816864, -73.882744)   \n",
       "10  STATEN ISLAND   10301.0  40.639614 -74.087270   (40.639614, -74.08727)   \n",
       "12       BROOKLYN   11223.0  40.602757 -73.963770   (40.602757, -73.96377)   \n",
       "\n",
       "   on_street_name off_street_name                         cross_street_name  \\\n",
       "0             NaN             NaN  243       DARLINGTON AVENUE                \n",
       "4             NaN             NaN  1167      BOSTON ROAD                      \n",
       "9             NaN             NaN  772       EDGEWATER ROAD                   \n",
       "10            NaN             NaN  361       JERSEY STREET                    \n",
       "12            NaN             NaN  802       AVENUE S                         \n",
       "\n",
       "    number_of_persons_injured  number_of_persons_killed  ...  \\\n",
       "0                           0                         0  ...   \n",
       "4                           0                         0  ...   \n",
       "9                           0                         0  ...   \n",
       "10                          0                         0  ...   \n",
       "12                          0                         0  ...   \n",
       "\n",
       "    contributing_factor_vehicle_2  contributing_factor_vehicle_3  \\\n",
       "0                     Unspecified                            NaN   \n",
       "4                     Unspecified                            NaN   \n",
       "9                             NaN                            NaN   \n",
       "10                    Unspecified                            NaN   \n",
       "12                    Unspecified                            NaN   \n",
       "\n",
       "    contributing_factor_vehicle_4  contributing_factor_vehicle_5  \\\n",
       "0                             NaN                            NaN   \n",
       "4                             NaN                            NaN   \n",
       "9                             NaN                            NaN   \n",
       "10                            NaN                            NaN   \n",
       "12                            NaN                            NaN   \n",
       "\n",
       "                     vehicle_type_code1                   vehicle_type_code2  \\\n",
       "0   Station Wagon/Sport Utility Vehicle                                  NaN   \n",
       "4                                 Sedan  Station Wagon/Sport Utility Vehicle   \n",
       "9                         Pick-up Truck                                  NaN   \n",
       "10  Station Wagon/Sport Utility Vehicle                                  PAS   \n",
       "12  Station Wagon/Sport Utility Vehicle  Station Wagon/Sport Utility Vehicle   \n",
       "\n",
       "   vehicle_type_code_3 vehicle_type_code_4 vehicle_type_code_5  \\\n",
       "0                  NaN                 NaN                 NaN   \n",
       "4                  NaN                 NaN                 NaN   \n",
       "9                  NaN                 NaN                 NaN   \n",
       "10                 NaN                 NaN                 NaN   \n",
       "12                 NaN                 NaN                 NaN   \n",
       "\n",
       "        crash_datetime  \n",
       "0  2017-04-18 23:10:00  \n",
       "4  2017-04-18 14:00:00  \n",
       "9  2017-05-02 01:00:00  \n",
       "10 2017-05-01 14:30:00  \n",
       "12 2017-05-01 10:30:00  \n",
       "\n",
       "[5 rows x 27 columns]"
      ],
      "text/html": "<div>\n<style scoped>\n    .dataframe tbody tr th:only-of-type {\n        vertical-align: middle;\n    }\n\n    .dataframe tbody tr th {\n        vertical-align: top;\n    }\n\n    .dataframe thead th {\n        text-align: right;\n    }\n</style>\n<table border=\"1\" class=\"dataframe\">\n  <thead>\n    <tr style=\"text-align: right;\">\n      <th></th>\n      <th>borough</th>\n      <th>zip_code</th>\n      <th>latitude</th>\n      <th>longitude</th>\n      <th>location</th>\n      <th>on_street_name</th>\n      <th>off_street_name</th>\n      <th>cross_street_name</th>\n      <th>number_of_persons_injured</th>\n      <th>number_of_persons_killed</th>\n      <th>...</th>\n      <th>contributing_factor_vehicle_2</th>\n      <th>contributing_factor_vehicle_3</th>\n      <th>contributing_factor_vehicle_4</th>\n      <th>contributing_factor_vehicle_5</th>\n      <th>vehicle_type_code1</th>\n      <th>vehicle_type_code2</th>\n      <th>vehicle_type_code_3</th>\n      <th>vehicle_type_code_4</th>\n      <th>vehicle_type_code_5</th>\n      <th>crash_datetime</th>\n    </tr>\n  </thead>\n  <tbody>\n    <tr>\n      <th>0</th>\n      <td>STATEN ISLAND</td>\n      <td>10312.0</td>\n      <td>40.536728</td>\n      <td>-74.193344</td>\n      <td>(40.536728, -74.193344)</td>\n      <td>NaN</td>\n      <td>NaN</td>\n      <td>243       DARLINGTON AVENUE</td>\n      <td>0</td>\n      <td>0</td>\n      <td>...</td>\n      <td>Unspecified</td>\n      <td>NaN</td>\n      <td>NaN</td>\n      <td>NaN</td>\n      <td>Station Wagon/Sport Utility Vehicle</td>\n      <td>NaN</td>\n      <td>NaN</td>\n      <td>NaN</td>\n      <td>NaN</td>\n      <td>2017-04-18 23:10:00</td>\n    </tr>\n    <tr>\n      <th>4</th>\n      <td>BRONX</td>\n      <td>10456.0</td>\n      <td>40.828846</td>\n      <td>-73.903120</td>\n      <td>(40.828846, -73.90312)</td>\n      <td>NaN</td>\n      <td>NaN</td>\n      <td>1167      BOSTON ROAD</td>\n      <td>0</td>\n      <td>0</td>\n      <td>...</td>\n      <td>Unspecified</td>\n      <td>NaN</td>\n      <td>NaN</td>\n      <td>NaN</td>\n      <td>Sedan</td>\n      <td>Station Wagon/Sport Utility Vehicle</td>\n      <td>NaN</td>\n      <td>NaN</td>\n      <td>NaN</td>\n      <td>2017-04-18 14:00:00</td>\n    </tr>\n    <tr>\n      <th>9</th>\n      <td>BRONX</td>\n      <td>10474.0</td>\n      <td>40.816864</td>\n      <td>-73.882744</td>\n      <td>(40.816864, -73.882744)</td>\n      <td>NaN</td>\n      <td>NaN</td>\n      <td>772       EDGEWATER ROAD</td>\n      <td>0</td>\n      <td>0</td>\n      <td>...</td>\n      <td>NaN</td>\n      <td>NaN</td>\n      <td>NaN</td>\n      <td>NaN</td>\n      <td>Pick-up Truck</td>\n      <td>NaN</td>\n      <td>NaN</td>\n      <td>NaN</td>\n      <td>NaN</td>\n      <td>2017-05-02 01:00:00</td>\n    </tr>\n    <tr>\n      <th>10</th>\n      <td>STATEN ISLAND</td>\n      <td>10301.0</td>\n      <td>40.639614</td>\n      <td>-74.087270</td>\n      <td>(40.639614, -74.08727)</td>\n      <td>NaN</td>\n      <td>NaN</td>\n      <td>361       JERSEY STREET</td>\n      <td>0</td>\n      <td>0</td>\n      <td>...</td>\n      <td>Unspecified</td>\n      <td>NaN</td>\n      <td>NaN</td>\n      <td>NaN</td>\n      <td>Station Wagon/Sport Utility Vehicle</td>\n      <td>PAS</td>\n      <td>NaN</td>\n      <td>NaN</td>\n      <td>NaN</td>\n      <td>2017-05-01 14:30:00</td>\n    </tr>\n    <tr>\n      <th>12</th>\n      <td>BROOKLYN</td>\n      <td>11223.0</td>\n      <td>40.602757</td>\n      <td>-73.963770</td>\n      <td>(40.602757, -73.96377)</td>\n      <td>NaN</td>\n      <td>NaN</td>\n      <td>802       AVENUE S</td>\n      <td>0</td>\n      <td>0</td>\n      <td>...</td>\n      <td>Unspecified</td>\n      <td>NaN</td>\n      <td>NaN</td>\n      <td>NaN</td>\n      <td>Station Wagon/Sport Utility Vehicle</td>\n      <td>Station Wagon/Sport Utility Vehicle</td>\n      <td>NaN</td>\n      <td>NaN</td>\n      <td>NaN</td>\n      <td>2017-05-01 10:30:00</td>\n    </tr>\n  </tbody>\n</table>\n<p>5 rows × 27 columns</p>\n</div>"
     },
     "metadata": {},
     "execution_count": 63
    }
   ],
   "source": [
    "# See examples of: `cross_street_name` when it is not null\n",
    "df[df[\"cross_street_name\"].notnull()].head()"
   ]
  },
  {
   "cell_type": "code",
   "execution_count": 67,
   "metadata": {},
   "outputs": [
    {
     "output_type": "execute_result",
     "data": {
      "text/plain": [
       "cross_street_name    False\n",
       "dtype: bool"
      ]
     },
     "metadata": {},
     "execution_count": 67
    }
   ],
   "source": [
    "# Check if: when `on_street_name` and `off_street_name` are not null, any `cross_street_name` exists\n",
    "(df[cols].groupby([\"on_street_name\", \"off_street_name\"]).count() > 0).any()"
   ]
  },
  {
   "cell_type": "code",
   "execution_count": 76,
   "metadata": {},
   "outputs": [
    {
     "output_type": "execute_result",
     "data": {
      "text/plain": [
       "    borough  zip_code   latitude  longitude                 location  \\\n",
       "1     BRONX   10472.0  40.829052 -73.850380   (40.829052, -73.85038)   \n",
       "2    QUEENS   11420.0  40.677303 -73.804565  (40.677303, -73.804565)   \n",
       "3       NaN       NaN  40.624958 -74.145775  (40.624958, -74.145775)   \n",
       "6       NaN       NaN  40.740025 -73.976260   (40.740025, -73.97626)   \n",
       "7  BROOKLYN   11203.0  40.651646 -73.932330   (40.651646, -73.93233)   \n",
       "\n",
       "                     on_street_name   off_street_name cross_street_name  \\\n",
       "1  CASTLE HILL AVENUE                BLACKROCK AVENUE               NaN   \n",
       "2  135 STREET                          FOCH BOULEVARD               NaN   \n",
       "3  FOREST AVENUE                      RICHMOND AVENUE               NaN   \n",
       "6  1 AVENUE                            EAST 28 STREET               NaN   \n",
       "7  EAST 48 STREET                       CHURCH AVENUE               NaN   \n",
       "\n",
       "   number_of_persons_injured  number_of_persons_killed  ...  \\\n",
       "1                          1                         0  ...   \n",
       "2                          0                         0  ...   \n",
       "3                          1                         0  ...   \n",
       "6                          0                         0  ...   \n",
       "7                          0                         0  ...   \n",
       "\n",
       "   contributing_factor_vehicle_2  contributing_factor_vehicle_3  \\\n",
       "1                            NaN                            NaN   \n",
       "2                    Unspecified                            NaN   \n",
       "3                    Unspecified                    Unspecified   \n",
       "6                    Unspecified                            NaN   \n",
       "7                Other Vehicular                            NaN   \n",
       "\n",
       "   contributing_factor_vehicle_4  contributing_factor_vehicle_5  \\\n",
       "1                            NaN                            NaN   \n",
       "2                            NaN                            NaN   \n",
       "3                            NaN                            NaN   \n",
       "6                            NaN                            NaN   \n",
       "7                            NaN                            NaN   \n",
       "\n",
       "                    vehicle_type_code1                   vehicle_type_code2  \\\n",
       "1                                Sedan                                  NaN   \n",
       "2                                Sedan                                Sedan   \n",
       "3                           Motorcycle                                Sedan   \n",
       "6                                 Taxi                            Box Truck   \n",
       "7  Station Wagon/Sport Utility Vehicle  Station Wagon/Sport Utility Vehicle   \n",
       "\n",
       "  vehicle_type_code_3 vehicle_type_code_4 vehicle_type_code_5  \\\n",
       "1                 NaN                 NaN                 NaN   \n",
       "2                 NaN                 NaN                 NaN   \n",
       "3                 Bus                 NaN                 NaN   \n",
       "6                 NaN                 NaN                 NaN   \n",
       "7                 NaN                 NaN                 NaN   \n",
       "\n",
       "       crash_datetime  \n",
       "1 2017-05-06 13:00:00  \n",
       "2 2017-04-27 17:15:00  \n",
       "3 2017-05-09 20:10:00  \n",
       "6 2017-05-10 06:10:00  \n",
       "7 2017-04-24 09:30:00  \n",
       "\n",
       "[5 rows x 27 columns]"
      ],
      "text/html": "<div>\n<style scoped>\n    .dataframe tbody tr th:only-of-type {\n        vertical-align: middle;\n    }\n\n    .dataframe tbody tr th {\n        vertical-align: top;\n    }\n\n    .dataframe thead th {\n        text-align: right;\n    }\n</style>\n<table border=\"1\" class=\"dataframe\">\n  <thead>\n    <tr style=\"text-align: right;\">\n      <th></th>\n      <th>borough</th>\n      <th>zip_code</th>\n      <th>latitude</th>\n      <th>longitude</th>\n      <th>location</th>\n      <th>on_street_name</th>\n      <th>off_street_name</th>\n      <th>cross_street_name</th>\n      <th>number_of_persons_injured</th>\n      <th>number_of_persons_killed</th>\n      <th>...</th>\n      <th>contributing_factor_vehicle_2</th>\n      <th>contributing_factor_vehicle_3</th>\n      <th>contributing_factor_vehicle_4</th>\n      <th>contributing_factor_vehicle_5</th>\n      <th>vehicle_type_code1</th>\n      <th>vehicle_type_code2</th>\n      <th>vehicle_type_code_3</th>\n      <th>vehicle_type_code_4</th>\n      <th>vehicle_type_code_5</th>\n      <th>crash_datetime</th>\n    </tr>\n  </thead>\n  <tbody>\n    <tr>\n      <th>1</th>\n      <td>BRONX</td>\n      <td>10472.0</td>\n      <td>40.829052</td>\n      <td>-73.850380</td>\n      <td>(40.829052, -73.85038)</td>\n      <td>CASTLE HILL AVENUE</td>\n      <td>BLACKROCK AVENUE</td>\n      <td>NaN</td>\n      <td>1</td>\n      <td>0</td>\n      <td>...</td>\n      <td>NaN</td>\n      <td>NaN</td>\n      <td>NaN</td>\n      <td>NaN</td>\n      <td>Sedan</td>\n      <td>NaN</td>\n      <td>NaN</td>\n      <td>NaN</td>\n      <td>NaN</td>\n      <td>2017-05-06 13:00:00</td>\n    </tr>\n    <tr>\n      <th>2</th>\n      <td>QUEENS</td>\n      <td>11420.0</td>\n      <td>40.677303</td>\n      <td>-73.804565</td>\n      <td>(40.677303, -73.804565)</td>\n      <td>135 STREET</td>\n      <td>FOCH BOULEVARD</td>\n      <td>NaN</td>\n      <td>0</td>\n      <td>0</td>\n      <td>...</td>\n      <td>Unspecified</td>\n      <td>NaN</td>\n      <td>NaN</td>\n      <td>NaN</td>\n      <td>Sedan</td>\n      <td>Sedan</td>\n      <td>NaN</td>\n      <td>NaN</td>\n      <td>NaN</td>\n      <td>2017-04-27 17:15:00</td>\n    </tr>\n    <tr>\n      <th>3</th>\n      <td>NaN</td>\n      <td>NaN</td>\n      <td>40.624958</td>\n      <td>-74.145775</td>\n      <td>(40.624958, -74.145775)</td>\n      <td>FOREST AVENUE</td>\n      <td>RICHMOND AVENUE</td>\n      <td>NaN</td>\n      <td>1</td>\n      <td>0</td>\n      <td>...</td>\n      <td>Unspecified</td>\n      <td>Unspecified</td>\n      <td>NaN</td>\n      <td>NaN</td>\n      <td>Motorcycle</td>\n      <td>Sedan</td>\n      <td>Bus</td>\n      <td>NaN</td>\n      <td>NaN</td>\n      <td>2017-05-09 20:10:00</td>\n    </tr>\n    <tr>\n      <th>6</th>\n      <td>NaN</td>\n      <td>NaN</td>\n      <td>40.740025</td>\n      <td>-73.976260</td>\n      <td>(40.740025, -73.97626)</td>\n      <td>1 AVENUE</td>\n      <td>EAST 28 STREET</td>\n      <td>NaN</td>\n      <td>0</td>\n      <td>0</td>\n      <td>...</td>\n      <td>Unspecified</td>\n      <td>NaN</td>\n      <td>NaN</td>\n      <td>NaN</td>\n      <td>Taxi</td>\n      <td>Box Truck</td>\n      <td>NaN</td>\n      <td>NaN</td>\n      <td>NaN</td>\n      <td>2017-05-10 06:10:00</td>\n    </tr>\n    <tr>\n      <th>7</th>\n      <td>BROOKLYN</td>\n      <td>11203.0</td>\n      <td>40.651646</td>\n      <td>-73.932330</td>\n      <td>(40.651646, -73.93233)</td>\n      <td>EAST 48 STREET</td>\n      <td>CHURCH AVENUE</td>\n      <td>NaN</td>\n      <td>0</td>\n      <td>0</td>\n      <td>...</td>\n      <td>Other Vehicular</td>\n      <td>NaN</td>\n      <td>NaN</td>\n      <td>NaN</td>\n      <td>Station Wagon/Sport Utility Vehicle</td>\n      <td>Station Wagon/Sport Utility Vehicle</td>\n      <td>NaN</td>\n      <td>NaN</td>\n      <td>NaN</td>\n      <td>2017-04-24 09:30:00</td>\n    </tr>\n  </tbody>\n</table>\n<p>5 rows × 27 columns</p>\n</div>"
     },
     "metadata": {},
     "execution_count": 76
    }
   ],
   "source": [
    "# See examples of: `on_street_name` and `off_street_name` when they are not null \n",
    "df[df[[\"on_street_name\", \"off_street_name\"]].notnull().all(axis=1)].head()"
   ]
  },
  {
   "cell_type": "code",
   "execution_count": 73,
   "metadata": {},
   "outputs": [
    {
     "output_type": "execute_result",
     "data": {
      "text/plain": [
       "on_street_name    True\n",
       "dtype: bool"
      ]
     },
     "metadata": {},
     "execution_count": 73
    }
   ],
   "source": [
    "# Check if: when `off_street_name` is not null, all `on_street_name` exist\n",
    "(df[[\"on_street_name\", \"off_street_name\"]].groupby([\"off_street_name\"]).count() > 0).all()"
   ]
  },
  {
   "cell_type": "code",
   "execution_count": 87,
   "metadata": {},
   "outputs": [
    {
     "output_type": "execute_result",
     "data": {
      "text/plain": [
       "    borough  zip_code   latitude  longitude                 location  \\\n",
       "1     BRONX   10472.0  40.829052 -73.850380   (40.829052, -73.85038)   \n",
       "2    QUEENS   11420.0  40.677303 -73.804565  (40.677303, -73.804565)   \n",
       "3       NaN       NaN  40.624958 -74.145775  (40.624958, -74.145775)   \n",
       "6       NaN       NaN  40.740025 -73.976260   (40.740025, -73.97626)   \n",
       "7  BROOKLYN   11203.0  40.651646 -73.932330   (40.651646, -73.93233)   \n",
       "\n",
       "                     on_street_name   off_street_name cross_street_name  \\\n",
       "1  CASTLE HILL AVENUE                BLACKROCK AVENUE               NaN   \n",
       "2  135 STREET                          FOCH BOULEVARD               NaN   \n",
       "3  FOREST AVENUE                      RICHMOND AVENUE               NaN   \n",
       "6  1 AVENUE                            EAST 28 STREET               NaN   \n",
       "7  EAST 48 STREET                       CHURCH AVENUE               NaN   \n",
       "\n",
       "   number_of_persons_injured  number_of_persons_killed  ...  \\\n",
       "1                          1                         0  ...   \n",
       "2                          0                         0  ...   \n",
       "3                          1                         0  ...   \n",
       "6                          0                         0  ...   \n",
       "7                          0                         0  ...   \n",
       "\n",
       "   contributing_factor_vehicle_2  contributing_factor_vehicle_3  \\\n",
       "1                            NaN                            NaN   \n",
       "2                    Unspecified                            NaN   \n",
       "3                    Unspecified                    Unspecified   \n",
       "6                    Unspecified                            NaN   \n",
       "7                Other Vehicular                            NaN   \n",
       "\n",
       "   contributing_factor_vehicle_4  contributing_factor_vehicle_5  \\\n",
       "1                            NaN                            NaN   \n",
       "2                            NaN                            NaN   \n",
       "3                            NaN                            NaN   \n",
       "6                            NaN                            NaN   \n",
       "7                            NaN                            NaN   \n",
       "\n",
       "                    vehicle_type_code1                   vehicle_type_code2  \\\n",
       "1                                Sedan                                  NaN   \n",
       "2                                Sedan                                Sedan   \n",
       "3                           Motorcycle                                Sedan   \n",
       "6                                 Taxi                            Box Truck   \n",
       "7  Station Wagon/Sport Utility Vehicle  Station Wagon/Sport Utility Vehicle   \n",
       "\n",
       "  vehicle_type_code_3 vehicle_type_code_4 vehicle_type_code_5  \\\n",
       "1                 NaN                 NaN                 NaN   \n",
       "2                 NaN                 NaN                 NaN   \n",
       "3                 Bus                 NaN                 NaN   \n",
       "6                 NaN                 NaN                 NaN   \n",
       "7                 NaN                 NaN                 NaN   \n",
       "\n",
       "       crash_datetime  \n",
       "1 2017-05-06 13:00:00  \n",
       "2 2017-04-27 17:15:00  \n",
       "3 2017-05-09 20:10:00  \n",
       "6 2017-05-10 06:10:00  \n",
       "7 2017-04-24 09:30:00  \n",
       "\n",
       "[5 rows x 27 columns]"
      ],
      "text/html": "<div>\n<style scoped>\n    .dataframe tbody tr th:only-of-type {\n        vertical-align: middle;\n    }\n\n    .dataframe tbody tr th {\n        vertical-align: top;\n    }\n\n    .dataframe thead th {\n        text-align: right;\n    }\n</style>\n<table border=\"1\" class=\"dataframe\">\n  <thead>\n    <tr style=\"text-align: right;\">\n      <th></th>\n      <th>borough</th>\n      <th>zip_code</th>\n      <th>latitude</th>\n      <th>longitude</th>\n      <th>location</th>\n      <th>on_street_name</th>\n      <th>off_street_name</th>\n      <th>cross_street_name</th>\n      <th>number_of_persons_injured</th>\n      <th>number_of_persons_killed</th>\n      <th>...</th>\n      <th>contributing_factor_vehicle_2</th>\n      <th>contributing_factor_vehicle_3</th>\n      <th>contributing_factor_vehicle_4</th>\n      <th>contributing_factor_vehicle_5</th>\n      <th>vehicle_type_code1</th>\n      <th>vehicle_type_code2</th>\n      <th>vehicle_type_code_3</th>\n      <th>vehicle_type_code_4</th>\n      <th>vehicle_type_code_5</th>\n      <th>crash_datetime</th>\n    </tr>\n  </thead>\n  <tbody>\n    <tr>\n      <th>1</th>\n      <td>BRONX</td>\n      <td>10472.0</td>\n      <td>40.829052</td>\n      <td>-73.850380</td>\n      <td>(40.829052, -73.85038)</td>\n      <td>CASTLE HILL AVENUE</td>\n      <td>BLACKROCK AVENUE</td>\n      <td>NaN</td>\n      <td>1</td>\n      <td>0</td>\n      <td>...</td>\n      <td>NaN</td>\n      <td>NaN</td>\n      <td>NaN</td>\n      <td>NaN</td>\n      <td>Sedan</td>\n      <td>NaN</td>\n      <td>NaN</td>\n      <td>NaN</td>\n      <td>NaN</td>\n      <td>2017-05-06 13:00:00</td>\n    </tr>\n    <tr>\n      <th>2</th>\n      <td>QUEENS</td>\n      <td>11420.0</td>\n      <td>40.677303</td>\n      <td>-73.804565</td>\n      <td>(40.677303, -73.804565)</td>\n      <td>135 STREET</td>\n      <td>FOCH BOULEVARD</td>\n      <td>NaN</td>\n      <td>0</td>\n      <td>0</td>\n      <td>...</td>\n      <td>Unspecified</td>\n      <td>NaN</td>\n      <td>NaN</td>\n      <td>NaN</td>\n      <td>Sedan</td>\n      <td>Sedan</td>\n      <td>NaN</td>\n      <td>NaN</td>\n      <td>NaN</td>\n      <td>2017-04-27 17:15:00</td>\n    </tr>\n    <tr>\n      <th>3</th>\n      <td>NaN</td>\n      <td>NaN</td>\n      <td>40.624958</td>\n      <td>-74.145775</td>\n      <td>(40.624958, -74.145775)</td>\n      <td>FOREST AVENUE</td>\n      <td>RICHMOND AVENUE</td>\n      <td>NaN</td>\n      <td>1</td>\n      <td>0</td>\n      <td>...</td>\n      <td>Unspecified</td>\n      <td>Unspecified</td>\n      <td>NaN</td>\n      <td>NaN</td>\n      <td>Motorcycle</td>\n      <td>Sedan</td>\n      <td>Bus</td>\n      <td>NaN</td>\n      <td>NaN</td>\n      <td>2017-05-09 20:10:00</td>\n    </tr>\n    <tr>\n      <th>6</th>\n      <td>NaN</td>\n      <td>NaN</td>\n      <td>40.740025</td>\n      <td>-73.976260</td>\n      <td>(40.740025, -73.97626)</td>\n      <td>1 AVENUE</td>\n      <td>EAST 28 STREET</td>\n      <td>NaN</td>\n      <td>0</td>\n      <td>0</td>\n      <td>...</td>\n      <td>Unspecified</td>\n      <td>NaN</td>\n      <td>NaN</td>\n      <td>NaN</td>\n      <td>Taxi</td>\n      <td>Box Truck</td>\n      <td>NaN</td>\n      <td>NaN</td>\n      <td>NaN</td>\n      <td>2017-05-10 06:10:00</td>\n    </tr>\n    <tr>\n      <th>7</th>\n      <td>BROOKLYN</td>\n      <td>11203.0</td>\n      <td>40.651646</td>\n      <td>-73.932330</td>\n      <td>(40.651646, -73.93233)</td>\n      <td>EAST 48 STREET</td>\n      <td>CHURCH AVENUE</td>\n      <td>NaN</td>\n      <td>0</td>\n      <td>0</td>\n      <td>...</td>\n      <td>Other Vehicular</td>\n      <td>NaN</td>\n      <td>NaN</td>\n      <td>NaN</td>\n      <td>Station Wagon/Sport Utility Vehicle</td>\n      <td>Station Wagon/Sport Utility Vehicle</td>\n      <td>NaN</td>\n      <td>NaN</td>\n      <td>NaN</td>\n      <td>2017-04-24 09:30:00</td>\n    </tr>\n  </tbody>\n</table>\n<p>5 rows × 27 columns</p>\n</div>"
     },
     "metadata": {},
     "execution_count": 87
    }
   ],
   "source": [
    "# See example if: when `off_street_name` is not null, all `on_street_name` exist\n",
    "df[df[\"off_street_name\"].notnull()].head()"
   ]
  },
  {
   "source": [
    "### Observation notes\n",
    "#### Missing values\n",
    "* In some of the original features, there are the following values:\n",
    "    - \"nan\"\n",
    "    - \"unspecified\" or \"Unspecified\"\n",
    "\n",
    "    => Decision: we are going to consider them as missing values.\n",
    "\n",
    "* Street names:\n",
    "    - All `street_name` features has at least one missing value\n",
    "    - When at least one of `on_street_name` and `off_street_name` exists, `cross_street_name` is missing\n",
    "    - When `cross_street_name` exists, `on_street_name` and `off_street_name` are missing\n",
    "    - When `on_street_name` exists, `off_street_name` may exists or not exists, and `cross_street_name` is missing\n",
    "    - When `off_street_name` exists, `on_street_name` always exists, and `cross_street_name` is missing\n",
    "\n",
    "    => Decision: we are going to fill in `on_street_name` with `cross_street_name` as this is the closest street name where the crash happened.\n",
    "\n",
    "### Data types\n",
    "* `crash_date` and `crash_time` are object (= string)\n",
    "\n",
    "    => Decision: Combine them into a *datetime64* feature\n",
    "\n",
    "* The original features related to location have missing values,\n",
    "even though they are very important (along with time of collision and number of injured or killed people).\n",
    "\n",
    "    => Decision: we are going to fill in the missing values.\n",
    "    (Since the end goal is to determine which streets are the most dangerous, the street names should at least have no missing values.)\n",
    "\n",
    "\n"
   ],
   "cell_type": "markdown",
   "metadata": {}
  },
  {
   "source": [
    "## 4. Clean Dataset"
   ],
   "cell_type": "markdown",
   "metadata": {}
  },
  {
   "source": [
    "### Fix missing values"
   ],
   "cell_type": "markdown",
   "metadata": {}
  },
  {
   "cell_type": "code",
   "execution_count": 104,
   "metadata": {},
   "outputs": [],
   "source": [
    "# Fill in `on_street_name` with `cross_street_name` when `cross_street_name` is not null and `on_street_name` is null\n",
    "condition = (df[\"cross_street_name\"].notnull() & df[\"on_street_name\"].isnull())\n",
    "df[\"on_street_name\"][(condition)] = df[\"cross_street_name\"][(condition)]"
   ]
  },
  {
   "cell_type": "code",
   "execution_count": 109,
   "metadata": {},
   "outputs": [
    {
     "output_type": "execute_result",
     "data": {
      "text/plain": [
       "                              on_street_name  \\\n",
       "0   243       DARLINGTON AVENUE                \n",
       "4   1167      BOSTON ROAD                      \n",
       "9   772       EDGEWATER ROAD                   \n",
       "10  361       JERSEY STREET                    \n",
       "12  802       AVENUE S                         \n",
       "\n",
       "                           cross_street_name  \n",
       "0   243       DARLINGTON AVENUE               \n",
       "4   1167      BOSTON ROAD                     \n",
       "9   772       EDGEWATER ROAD                  \n",
       "10  361       JERSEY STREET                   \n",
       "12  802       AVENUE S                        "
      ],
      "text/html": "<div>\n<style scoped>\n    .dataframe tbody tr th:only-of-type {\n        vertical-align: middle;\n    }\n\n    .dataframe tbody tr th {\n        vertical-align: top;\n    }\n\n    .dataframe thead th {\n        text-align: right;\n    }\n</style>\n<table border=\"1\" class=\"dataframe\">\n  <thead>\n    <tr style=\"text-align: right;\">\n      <th></th>\n      <th>on_street_name</th>\n      <th>cross_street_name</th>\n    </tr>\n  </thead>\n  <tbody>\n    <tr>\n      <th>0</th>\n      <td>243       DARLINGTON AVENUE</td>\n      <td>243       DARLINGTON AVENUE</td>\n    </tr>\n    <tr>\n      <th>4</th>\n      <td>1167      BOSTON ROAD</td>\n      <td>1167      BOSTON ROAD</td>\n    </tr>\n    <tr>\n      <th>9</th>\n      <td>772       EDGEWATER ROAD</td>\n      <td>772       EDGEWATER ROAD</td>\n    </tr>\n    <tr>\n      <th>10</th>\n      <td>361       JERSEY STREET</td>\n      <td>361       JERSEY STREET</td>\n    </tr>\n    <tr>\n      <th>12</th>\n      <td>802       AVENUE S</td>\n      <td>802       AVENUE S</td>\n    </tr>\n  </tbody>\n</table>\n</div>"
     },
     "metadata": {},
     "execution_count": 109
    }
   ],
   "source": [
    "# Check if `on_street_name` is correctly populated with `cross_street_name`\n",
    "df[[\"on_street_name\",\"cross_street_name\"]][(condition)].head()"
   ]
  },
  {
   "cell_type": "code",
   "execution_count": 111,
   "metadata": {},
   "outputs": [
    {
     "output_type": "execute_result",
     "data": {
      "text/plain": [
       "        NaN   \n",
       "6932             NaN             NaN               NaN   \n",
       "22111            NaN             NaN               NaN   \n",
       "22859            NaN             NaN               NaN   \n",
       "24196            NaN             NaN               NaN   \n",
       "24222            NaN             NaN               NaN   \n",
       "25567            NaN             NaN               NaN   \n",
       "26734            NaN             NaN               NaN   \n",
       "27762            NaN             NaN               NaN   \n",
       "28235            NaN             NaN               NaN   \n",
       "28843            NaN             NaN               NaN   \n",
       "28922            NaN             NaN               NaN   \n",
       "29042            NaN             NaN               NaN   \n",
       "29288            NaN             NaN               NaN   \n",
       "30035            NaN             NaN               NaN   \n",
       "30087            NaN             NaN               NaN   \n",
       "30170            NaN             NaN               NaN   \n",
       "39779            NaN             NaN               NaN   \n",
       "40706            NaN             NaN               NaN   \n",
       "41607            NaN             NaN               NaN   \n",
       "41741            NaN             NaN               NaN   \n",
       "41896            NaN             NaN               NaN   \n",
       "41950            NaN             NaN               NaN   \n",
       "42791            NaN             NaN               NaN   \n",
       "43108            NaN             NaN               NaN   \n",
       "44378            NaN             NaN               NaN   \n",
       "44616            NaN             NaN               NaN   \n",
       "\n",
       "       number_of_persons_injured  number_of_persons_killed  ...  \\\n",
       "345                            0                         0  ...   \n",
       "1163                           2                         0  ...   \n",
       "1285                           0                         0  ...   \n",
       "1762                           1                         0  ...   \n",
       "2382                           0                         0  ...   \n",
       "2541                           0                         0  ...   \n",
       "2883                           0                         0  ...   \n",
       "2911                           0                         0  ...   \n",
       "3983                           0                         0  ...   \n",
       "4281                           0                         0  ...   \n",
       "4835                           0                         0  ...   \n",
       "5101                           0                         0  ...   \n",
       "5636                           0                         0  ...   \n",
       "5797                           1                         0  ...   \n",
       "5904                           3                         0  ...   \n",
       "5958                           1                         0  ...   \n",
       "6932                           0                         0  ...   \n",
       "22111                          2                         0  ...   \n",
       "22859                          0                         0  ...   \n",
       "24196                          0                         0  ...   \n",
       "24222                          0                         0  ...   \n",
       "25567                          0                         0  ...   \n",
       "26734                          0                         0  ...   \n",
       "27762                          0                         0  ...   \n",
       "28235                          0                         0  ...   \n",
       "28843                          5                         0  ...   \n",
       "28922                          0                         0  ...   \n",
       "29042                          1                         0  ...   \n",
       "29288                          0                         0  ...   \n",
       "30035                          3                         0  ...   \n",
       "30087                          0                         0  ...   \n",
       "30170                          0                         0  ...   \n",
       "39779                          0                         0  ...   \n",
       "40706                          1                         0  ...   \n",
       "41607                          0                         0  ...   \n",
       "41741                          0                         0  ...   \n",
       "41896                          0                         0  ...   \n",
       "41950                          1                         0  ...   \n",
       "42791                          0                         0  ...   \n",
       "43108                          0                         0  ...   \n",
       "44378                          0                         0  ...   \n",
       "44616                          0                         0  ...   \n",
       "\n",
       "        contributing_factor_vehicle_2   contributing_factor_vehicle_3  \\\n",
       "345                       Unspecified                             NaN   \n",
       "1163                      Unspecified                     Unspecified   \n",
       "1285                      Unspecified                             NaN   \n",
       "1762                      Unspecified                             NaN   \n",
       "2382                      Unspecified                             NaN   \n",
       "2541                      Unspecified                             NaN   \n",
       "2883                      Unspecified                             NaN   \n",
       "2911                      Unspecified                             NaN   \n",
       "3983                      Unspecified                             NaN   \n",
       "4281    Failure to Yield Right-of-Way                             NaN   \n",
       "4835                      Unspecified                             NaN   \n",
       "5101                      Unspecified                             NaN   \n",
       "5636                      Unspecified                             NaN   \n",
       "5797                              NaN                             NaN   \n",
       "5904                      Unspecified                             NaN   \n",
       "5958                              NaN                             NaN   \n",
       "6932                      Unspecified                     Unspecified   \n",
       "22111                     Unspecified                             NaN   \n",
       "22859  Driver Inattention/Distraction  Driver Inattention/Distraction   \n",
       "24196                     Unspecified                             NaN   \n",
       "24222                     Unspecified                     Unspecified   \n",
       "25567                     Unspecified                             NaN   \n",
       "26734                     Unspecified                             NaN   \n",
       "27762                     Unspecified                             NaN   \n",
       "28235                     Unspecified                             NaN   \n",
       "28843                 Other Vehicular                             NaN   \n",
       "28922                     Unspecified                             NaN   \n",
       "29042                     Unspecified                             NaN   \n",
       "29288                             NaN                             NaN   \n",
       "30035                     Unspecified                             NaN   \n",
       "30087                     Unspecified                             NaN   \n",
       "30170                     Unspecified                             NaN   \n",
       "39779                     Unspecified                             NaN   \n",
       "40706                     Unspecified                             NaN   \n",
       "41607                     Unspecified                             NaN   \n",
       "41741                     Unspecified                     Unspecified   \n",
       "41896                     Unspecified                             NaN   \n",
       "41950                     Unspecified                             NaN   \n",
       "42791                 Fatigued/Drowsy                             NaN   \n",
       "43108                     Unspecified                             NaN   \n",
       "44378                     Unspecified                             NaN   \n",
       "44616                             NaN                             NaN   \n",
       "\n",
       "        contributing_factor_vehicle_4  contributing_factor_vehicle_5  \\\n",
       "345                               NaN                            NaN   \n",
       "1163                              NaN                            NaN   \n",
       "1285                              NaN                            NaN   \n",
       "1762                              NaN                            NaN   \n",
       "2382                              NaN                            NaN   \n",
       "2541                              NaN                            NaN   \n",
       "2883                              NaN                            NaN   \n",
       "2911                              NaN                            NaN   \n",
       "3983                              NaN                            NaN   \n",
       "4281                              NaN                            NaN   \n",
       "4835                              NaN                            NaN   \n",
       "5101                              NaN                            NaN   \n",
       "5636                              NaN                            NaN   \n",
       "5797                              NaN                            NaN   \n",
       "5904                              NaN                            NaN   \n",
       "5958                              NaN                            NaN   \n",
       "6932                              NaN                            NaN   \n",
       "22111                             NaN                            NaN   \n",
       "22859  Driver Inattention/Distraction                            NaN   \n",
       "24196                             NaN                            NaN   \n",
       "24222                     Unspecified                            NaN   \n",
       "25567                             NaN                            NaN   \n",
       "26734                             NaN                            NaN   \n",
       "27762                             NaN                            NaN   \n",
       "28235                             NaN                            NaN   \n",
       "28843                             NaN                            NaN   \n",
       "28922                             NaN                            NaN   \n",
       "29042                             NaN                            NaN   \n",
       "29288                             NaN                            NaN   \n",
       "30035                             NaN                            NaN   \n",
       "30087                             NaN                            NaN   \n",
       "30170                             NaN                            NaN   \n",
       "39779                             NaN                            NaN   \n",
       "40706                             NaN                            NaN   \n",
       "41607                             NaN                            NaN   \n",
       "41741                             NaN                            NaN   \n",
       "41896                             NaN                            NaN   \n",
       "41950                             NaN                            NaN   \n",
       "42791                             NaN                            NaN   \n",
       "43108                             NaN                            NaN   \n",
       "44378                             NaN                            NaN   \n",
       "44616                             NaN                            NaN   \n",
       "\n",
       "                        vehicle_type_code1  \\\n",
       "345                                  Sedan   \n",
       "1163                                 Sedan   \n",
       "1285                                 Sedan   \n",
       "1762   Station Wagon/Sport Utility Vehicle   \n",
       "2382                                   Bus   \n",
       "2541               SMALL COM VEH(4 TIRES)    \n",
       "2883                     PASSENGER VEHICLE   \n",
       "2911         SPORT UTILITY / STATION WAGON   \n",
       "3983                                 Sedan   \n",
       "4281   Station Wagon/Sport Utility Vehicle   \n",
       "4835                     PASSENGER VEHICLE   \n",
       "5101                                 Sedan   \n",
       "5636                                 Sedan   \n",
       "5797                                 Sedan   \n",
       "5904         SPORT UTILITY / STATION WAGON   \n",
       "5958                                 Sedan   \n",
       "6932   Station Wagon/Sport Utility Vehicle   \n",
       "22111  Station Wagon/Sport Utility Vehicle   \n",
       "22859  Station Wagon/Sport Utility Vehicle   \n",
       "24196                    PASSENGER VEHICLE   \n",
       "24222                    PASSENGER VEHICLE   \n",
       "25567                    PASSENGER VEHICLE   \n",
       "26734                    PASSENGER VEHICLE   \n",
       "27762                    PASSENGER VEHICLE   \n",
       "28235                    PASSENGER VEHICLE   \n",
       "28843                    PASSENGER VEHICLE   \n",
       "28922                                  VAN   \n",
       "29042  Station Wagon/Sport Utility Vehicle   \n",
       "29288                                Sedan   \n",
       "30035        SPORT UTILITY / STATION WAGON   \n",
       "30087                    PASSENGER VEHICLE   \n",
       "30170                    PASSENGER VEHICLE   \n",
       "39779                                  BUS   \n",
       "40706                           MOTORCYCLE   \n",
       "41607                    PASSENGER VEHICLE   \n",
       "41741                                Sedan   \n",
       "41896                    PASSENGER VEHICLE   \n",
       "41950                    PASSENGER VEHICLE   \n",
       "42791                    PASSENGER VEHICLE   \n",
       "43108                    PASSENGER VEHICLE   \n",
       "44378                    PASSENGER VEHICLE   \n",
       "44616                    PASSENGER VEHICLE   \n",
       "\n",
       "                        vehicle_type_code2  \\\n",
       "345                          Pick-up Truck   \n",
       "1163   Station Wagon/Sport Utility Vehicle   \n",
       "1285                                 Sedan   \n",
       "1762                                 Sedan   \n",
       "2382                                 Sedan   \n",
       "2541         SPORT UTILITY / STATION WAGON   \n",
       "2883         SPORT UTILITY / STATION WAGON   \n",
       "2911                               UNKNOWN   \n",
       "3983                                 Sedan   \n",
       "4281                                 Sedan   \n",
       "4835         SPORT UTILITY / STATION WAGON   \n",
       "5101                                 Sedan   \n",
       "5636                                   Bus   \n",
       "5797                                   NaN   \n",
       "5904                     PASSENGER VEHICLE   \n",
       "5958                                   NaN   \n",
       "6932                                 Sedan   \n",
       "22111                                Sedan   \n",
       "22859                                Sedan   \n",
       "24196                    PASSENGER VEHICLE   \n",
       "24222                    PASSENGER VEHICLE   \n",
       "25567                    PASSENGER VEHICLE   \n",
       "26734                              UNKNOWN   \n",
       "27762                    PASSENGER VEHICLE   \n",
       "28235                              UNKNOWN   \n",
       "28843                    PASSENGER VEHICLE   \n",
       "28922                    PASSENGER VEHICLE   \n",
       "29042                                Sedan   \n",
       "29288                                  NaN   \n",
       "30035                    PASSENGER VEHICLE   \n",
       "30087        SPORT UTILITY / STATION WAGON   \n",
       "30170                    PASSENGER VEHICLE   \n",
       "39779        SPORT UTILITY / STATION WAGON   \n",
       "40706                                  VAN   \n",
       "41607                    PASSENGER VEHICLE   \n",
       "41741  Station Wagon/Sport Utility Vehicle   \n",
       "41896                    PASSENGER VEHICLE   \n",
       "41950                    PASSENGER VEHICLE   \n",
       "42791                    PASSENGER VEHICLE   \n",
       "43108                    PASSENGER VEHICLE   \n",
       "44378                    PASSENGER VEHICLE   \n",
       "44616                                  NaN   \n",
       "\n",
       "                       vehicle_type_code_3            vehicle_type_code_4  \\\n",
       "345                                    NaN                            NaN   \n",
       "1163                                 Sedan                            NaN   \n",
       "1285                                   NaN                            NaN   \n",
       "1762                                   NaN                            NaN   \n",
       "2382                                   NaN                            NaN   \n",
       "2541                                   NaN                            NaN   \n",
       "2883                                   NaN                            NaN   \n",
       "2911                                   NaN                            NaN   \n",
       "3983                                   NaN                            NaN   \n",
       "4281                                   NaN                            NaN   \n",
       "4835                                   NaN                            NaN   \n",
       "5101                                   NaN                            NaN   \n",
       "5636                                   NaN                            NaN   \n",
       "5797                                   NaN                            NaN   \n",
       "5904                                   NaN                            NaN   \n",
       "5958                                   NaN                            NaN   \n",
       "6932                         Pick-up Truck                            NaN   \n",
       "22111                                  NaN                            NaN   \n",
       "22859  Station Wagon/Sport Utility Vehicle                          Sedan   \n",
       "24196                                  NaN                            NaN   \n",
       "24222                    PASSENGER VEHICLE  SPORT UTILITY / STATION WAGON   \n",
       "25567                                  NaN                            NaN   \n",
       "26734                                  NaN                            NaN   \n",
       "27762                                  NaN                            NaN   \n",
       "28235                                  NaN                            NaN   \n",
       "28843                                  NaN                            NaN   \n",
       "28922                                  NaN                            NaN   \n",
       "29042                                  NaN                            NaN   \n",
       "29288                                  NaN                            NaN   \n",
       "30035                                  NaN                            NaN   \n",
       "30087                                  NaN                            NaN   \n",
       "30170                                  NaN                            NaN   \n",
       "39779                                  NaN                            NaN   \n",
       "40706                                  NaN                            NaN   \n",
       "41607                                  NaN                            NaN   \n",
       "41741  Station Wagon/Sport Utility Vehicle                            NaN   \n",
       "41896                                  NaN                            NaN   \n",
       "41950                                  NaN                            NaN   \n",
       "42791                                  NaN                            NaN   \n",
       "43108                                  NaN                            NaN   \n",
       "44378                                  NaN                            NaN   \n",
       "44616                                  NaN                            NaN   \n",
       "\n",
       "      vehicle_type_code_5      crash_datetime  \n",
       "345                   NaN 2018-07-23 15:30:00  \n",
       "1163                  NaN 2017-04-30 14:05:00  \n",
       "1285                  NaN 2018-02-15 17:00:00  \n",
       "1762                  NaN 2017-09-09 15:40:00  \n",
       "2382                  NaN 2017-09-08 15:50:00  \n",
       "2541                  NaN 2015-12-09 18:50:00  \n",
       "2883                  NaN 2015-11-24 13:00:00  \n",
       "2911                  NaN 2015-11-18 15:30:00  \n",
       "3983                  NaN 2018-02-10 14:35:00  \n",
       "4281                  NaN 2017-05-05 21:00:00  \n",
       "4835                  NaN 2015-12-12 18:10:00  \n",
       "5101                  NaN 2018-02-08 15:20:00  \n",
       "5636                  NaN 2018-02-07 14:20:00  \n",
       "5797                  NaN 2017-09-03 06:10:00  \n",
       "5904                  NaN 2015-11-21 17:30:00  \n",
       "5958                  NaN 2018-02-07 22:19:00  \n",
       "6932                  NaN 2019-08-22 11:20:00  \n",
       "22111                 NaN 2019-08-18 00:50:00  \n",
       "22859                 NaN 2019-07-29 07:15:00  \n",
       "24196                 NaN 2013-04-14 12:30:00  \n",
       "24222                 NaN 2013-04-21 16:10:00  \n",
       "25567                 NaN 2013-04-22 10:44:00  \n",
       "26734                 NaN 2013-04-23 22:20:00  \n",
       "27762                 NaN 2013-05-04 16:00:00  \n",
       "28235                 NaN 2013-04-13 17:40:00  \n",
       "28843                 NaN 2013-03-24 05:30:00  \n",
       "28922                 NaN 2013-03-23 21:20:00  \n",
       "29042                 NaN 2019-07-28 23:10:00  \n",
       "29288                 NaN 2019-08-04 21:40:00  \n",
       "30035                 NaN 2015-07-25 16:20:00  \n",
       "30087                 NaN 2015-07-31 04:15:00  \n",
       "30170                 NaN 2015-07-23 19:30:00  \n",
       "39779                 NaN 2015-06-23 12:40:00  \n",
       "40706                 NaN 2015-06-26 09:30:00  \n",
       "41607                 NaN 2015-06-17 00:10:00  \n",
       "41741                 NaN 2019-07-10 06:58:00  \n",
       "41896                 NaN 2015-06-25 18:00:00  \n",
       "41950                 NaN 2015-06-18 17:05:00  \n",
       "42791                 NaN 2015-06-30 14:15:00  \n",
       "43108                 NaN 2015-06-09 16:00:00  \n",
       "44378                 NaN 2015-05-15 18:50:00  \n",
       "44616                 NaN 2015-05-16 04:15:00  \n",
       "\n",
       "[42 rows x 27 columns]"
      ],
      "text/html": "<div>\n<style scoped>\n    .dataframe tbody tr th:only-of-type {\n        vertical-align: middle;\n    }\n\n    .dataframe tbody tr th {\n        vertical-align: top;\n    }\n\n    .dataframe thead th {\n        text-align: right;\n    }\n</style>\n<table border=\"1\" class=\"dataframe\">\n  <thead>\n    <tr style=\"text-align: right;\">\n      <th></th>\n      <th>borough</th>\n      <th>zip_code</th>\n      <th>latitude</th>\n      <th>longitude</th>\n      <th>location</th>\n      <th>on_street_name</th>\n      <th>off_street_name</th>\n      <th>cross_street_name</th>\n      <th>number_of_persons_injured</th>\n      <th>number_of_persons_killed</th>\n      <th>...</th>\n      <th>contributing_factor_vehicle_2</th>\n      <th>contributing_factor_vehicle_3</th>\n      <th>contributing_factor_vehicle_4</th>\n      <th>contributing_factor_vehicle_5</th>\n      <th>vehicle_type_code1</th>\n      <th>vehicle_type_code2</th>\n      <th>vehicle_type_code_3</th>\n      <th>vehicle_type_code_4</th>\n      <th>vehicle_type_code_5</th>\n      <th>crash_datetime</th>\n    </tr>\n  </thead>\n  <tbody>\n    <tr>\n      <th>345</th>\n      <td>NaN</td>\n      <td>NaN</td>\n      <td>NaN</td>\n      <td>NaN</td>\n      <td>NaN</td>\n      <td>NaN</td>\n      <td>NaN</td>\n      <td>NaN</td>\n      <td>0</td>\n      <td>0</td>\n      <td>...</td>\n      <td>Unspecified</td>\n      <td>NaN</td>\n      <td>NaN</td>\n      <td>NaN</td>\n      <td>Sedan</td>\n      <td>Pick-up Truck</td>\n      <td>NaN</td>\n      <td>NaN</td>\n      <td>NaN</td>\n      <td>2018-07-23 15:30:00</td>\n    </tr>\n    <tr>\n      <th>1163</th>\n      <td>NaN</td>\n      <td>NaN</td>\n      <td>40.604153</td>\n      <td>-74.051980</td>\n      <td>(40.604153, -74.05198)</td>\n      <td>NaN</td>\n      <td>NaN</td>\n      <td>NaN</td>\n      <td>2</td>\n      <td>0</td>\n      <td>...</td>\n      <td>Unspecified</td>\n      <td>Unspecified</td>\n      <td>NaN</td>\n      <td>NaN</td>\n      <td>Sedan</td>\n      <td>Station Wagon/Sport Utility Vehicle</td>\n      <td>Sedan</td>\n      <td>NaN</td>\n      <td>NaN</td>\n      <td>2017-04-30 14:05:00</td>\n    </tr>\n    <tr>\n      <th>1285</th>\n      <td>NaN</td>\n      <td>NaN</td>\n      <td>NaN</td>\n      <td>NaN</td>\n      <td>NaN</td>\n      <td>NaN</td>\n      <td>NaN</td>\n      <td>NaN</td>\n      <td>0</td>\n      <td>0</td>\n      <td>...</td>\n      <td>Unspecified</td>\n      <td>NaN</td>\n      <td>NaN</td>\n      <td>NaN</td>\n      <td>Sedan</td>\n      <td>Sedan</td>\n      <td>NaN</td>\n      <td>NaN</td>\n      <td>NaN</td>\n      <td>2018-02-15 17:00:00</td>\n    </tr>\n    <tr>\n      <th>1762</th>\n      <td>NaN</td>\n      <td>NaN</td>\n      <td>NaN</td>\n      <td>NaN</td>\n      <td>NaN</td>\n      <td>NaN</td>\n      <td>NaN</td>\n      <td>NaN</td>\n      <td>1</td>\n      <td>0</td>\n      <td>...</td>\n      <td>Unspecified</td>\n      <td>NaN</td>\n      <td>NaN</td>\n      <td>NaN</td>\n      <td>Station Wagon/Sport Utility Vehicle</td>\n      <td>Sedan</td>\n      <td>NaN</td>\n      <td>NaN</td>\n      <td>NaN</td>\n      <td>2017-09-09 15:40:00</td>\n    </tr>\n    <tr>\n      <th>2382</th>\n      <td>NaN</td>\n      <td>NaN</td>\n      <td>NaN</td>\n      <td>NaN</td>\n      <td>NaN</td>\n      <td>NaN</td>\n      <td>NaN</td>\n      <td>NaN</td>\n      <td>0</td>\n      <td>0</td>\n      <td>...</td>\n      <td>Unspecified</td>\n      <td>NaN</td>\n      <td>NaN</td>\n      <td>NaN</td>\n      <td>Bus</td>\n      <td>Sedan</td>\n      <td>NaN</td>\n      <td>NaN</td>\n      <td>NaN</td>\n      <td>2017-09-08 15:50:00</td>\n    </tr>\n    <tr>\n      <th>2541</th>\n      <td>NaN</td>\n      <td>NaN</td>\n      <td>40.728393</td>\n      <td>-73.833014</td>\n      <td>(40.7283926, -73.8330138)</td>\n      <td>NaN</td>\n      <td>NaN</td>\n      <td>NaN</td>\n      <td>0</td>\n      <td>0</td>\n      <td>...</td>\n      <td>Unspecified</td>\n      <td>NaN</td>\n      <td>NaN</td>\n      <td>NaN</td>\n      <td>SMALL COM VEH(4 TIRES)</td>\n      <td>SPORT UTILITY / STATION WAGON</td>\n      <td>NaN</td>\n      <td>NaN</td>\n      <td>NaN</td>\n      <td>2015-12-09 18:50:00</td>\n    </tr>\n    <tr>\n      <th>2883</th>\n      <td>NaN</td>\n      <td>NaN</td>\n      <td>40.604620</td>\n      <td>-74.027700</td>\n      <td>(40.6046202, -74.0277)</td>\n      <td>NaN</td>\n      <td>NaN</td>\n      <td>NaN</td>\n      <td>0</td>\n      <td>0</td>\n      <td>...</td>\n      <td>Unspecified</td>\n      <td>NaN</td>\n      <td>NaN</td>\n      <td>NaN</td>\n      <td>PASSENGER VEHICLE</td>\n      <td>SPORT UTILITY / STATION WAGON</td>\n      <td>NaN</td>\n      <td>NaN</td>\n      <td>NaN</td>\n      <td>2015-11-24 13:00:00</td>\n    </tr>\n    <tr>\n      <th>2911</th>\n      <td>NaN</td>\n      <td>NaN</td>\n      <td>40.846467</td>\n      <td>-73.945154</td>\n      <td>(40.8464674, -73.9451536)</td>\n      <td>NaN</td>\n      <td>NaN</td>\n      <td>NaN</td>\n      <td>0</td>\n      <td>0</td>\n      <td>...</td>\n      <td>Unspecified</td>\n      <td>NaN</td>\n      <td>NaN</td>\n      <td>NaN</td>\n      <td>SPORT UTILITY / STATION WAGON</td>\n      <td>UNKNOWN</td>\n      <td>NaN</td>\n      <td>NaN</td>\n      <td>NaN</td>\n      <td>2015-11-18 15:30:00</td>\n    </tr>\n    <tr>\n      <th>3983</th>\n      <td>NaN</td>\n      <td>NaN</td>\n      <td>NaN</td>\n      <td>NaN</td>\n      <td>NaN</td>\n      <td>NaN</td>\n      <td>NaN</td>\n      <td>NaN</td>\n      <td>0</td>\n      <td>0</td>\n      <td>...</td>\n      <td>Unspecified</td>\n      <td>NaN</td>\n      <td>NaN</td>\n      <td>NaN</td>\n      <td>Sedan</td>\n      <td>Sedan</td>\n      <td>NaN</td>\n      <td>NaN</td>\n      <td>NaN</td>\n      <td>2018-02-10 14:35:00</td>\n    </tr>\n    <tr>\n      <th>4281</th>\n      <td>NaN</td>\n      <td>NaN</td>\n      <td>NaN</td>\n      <td>NaN</td>\n      <td>NaN</td>\n      <td>NaN</td>\n      <td>NaN</td>\n      <td>NaN</td>\n      <td>0</td>\n      <td>0</td>\n      <td>...</td>\n      <td>Failure to Yield Right-of-Way</td>\n      <td>NaN</td>\n      <td>NaN</td>\n      <td>NaN</td>\n      <td>Station Wagon/Sport Utility Vehicle</td>\n      <td>Sedan</td>\n      <td>NaN</td>\n      <td>NaN</td>\n      <td>NaN</td>\n      <td>2017-05-05 21:00:00</td>\n    </tr>\n    <tr>\n      <th>4835</th>\n      <td>NaN</td>\n      <td>NaN</td>\n      <td>40.799702</td>\n      <td>-73.929283</td>\n      <td>(40.7997016, -73.9292835)</td>\n      <td>NaN</td>\n      <td>NaN</td>\n      <td>NaN</td>\n      <td>0</td>\n      <td>0</td>\n      <td>...</td>\n      <td>Unspecified</td>\n      <td>NaN</td>\n      <td>NaN</td>\n      <td>NaN</td>\n      <td>PASSENGER VEHICLE</td>\n      <td>SPORT UTILITY / STATION WAGON</td>\n      <td>NaN</td>\n      <td>NaN</td>\n      <td>NaN</td>\n      <td>2015-12-12 18:10:00</td>\n    </tr>\n    <tr>\n      <th>5101</th>\n      <td>NaN</td>\n      <td>NaN</td>\n      <td>NaN</td>\n      <td>NaN</td>\n      <td>NaN</td>\n      <td>NaN</td>\n      <td>NaN</td>\n      <td>NaN</td>\n      <td>0</td>\n      <td>0</td>\n      <td>...</td>\n      <td>Unspecified</td>\n      <td>NaN</td>\n      <td>NaN</td>\n      <td>NaN</td>\n      <td>Sedan</td>\n      <td>Sedan</td>\n      <td>NaN</td>\n      <td>NaN</td>\n      <td>NaN</td>\n      <td>2018-02-08 15:20:00</td>\n    </tr>\n    <tr>\n      <th>5636</th>\n      <td>NaN</td>\n      <td>NaN</td>\n      <td>NaN</td>\n      <td>NaN</td>\n      <td>NaN</td>\n      <td>NaN</td>\n      <td>NaN</td>\n      <td>NaN</td>\n      <td>0</td>\n      <td>0</td>\n      <td>...</td>\n      <td>Unspecified</td>\n      <td>NaN</td>\n      <td>NaN</td>\n      <td>NaN</td>\n      <td>Sedan</td>\n      <td>Bus</td>\n      <td>NaN</td>\n      <td>NaN</td>\n      <td>NaN</td>\n      <td>2018-02-07 14:20:00</td>\n    </tr>\n    <tr>\n      <th>5797</th>\n      <td>NaN</td>\n      <td>NaN</td>\n      <td>NaN</td>\n      <td>NaN</td>\n      <td>NaN</td>\n      <td>NaN</td>\n      <td>NaN</td>\n      <td>NaN</td>\n      <td>1</td>\n      <td>0</td>\n      <td>...</td>\n      <td>NaN</td>\n      <td>NaN</td>\n      <td>NaN</td>\n      <td>NaN</td>\n      <td>Sedan</td>\n      <td>NaN</td>\n      <td>NaN</td>\n      <td>NaN</td>\n      <td>NaN</td>\n      <td>2017-09-03 06:10:00</td>\n    </tr>\n    <tr>\n      <th>5904</th>\n      <td>NaN</td>\n      <td>NaN</td>\n      <td>40.778088</td>\n      <td>-73.826871</td>\n      <td>(40.7780879, -73.8268707)</td>\n      <td>NaN</td>\n      <td>NaN</td>\n      <td>NaN</td>\n      <td>3</td>\n      <td>0</td>\n      <td>...</td>\n      <td>Unspecified</td>\n      <td>NaN</td>\n      <td>NaN</td>\n      <td>NaN</td>\n      <td>SPORT UTILITY / STATION WAGON</td>\n      <td>PASSENGER VEHICLE</td>\n      <td>NaN</td>\n      <td>NaN</td>\n      <td>NaN</td>\n      <td>2015-11-21 17:30:00</td>\n    </tr>\n    <tr>\n      <th>5958</th>\n      <td>NaN</td>\n      <td>NaN</td>\n      <td>NaN</td>\n      <td>NaN</td>\n      <td>NaN</td>\n      <td>NaN</td>\n      <td>NaN</td>\n      <td>NaN</td>\n      <td>1</td>\n      <td>0</td>\n      <td>...</td>\n      <td>NaN</td>\n      <td>NaN</td>\n      <td>NaN</td>\n      <td>NaN</td>\n      <td>Sedan</td>\n      <td>NaN</td>\n      <td>NaN</td>\n      <td>NaN</td>\n      <td>NaN</td>\n      <td>2018-02-07 22:19:00</td>\n    </tr>\n    <tr>\n      <th>6932</th>\n      <td>NaN</td>\n      <td>NaN</td>\n      <td>40.609150</td>\n      <td>-74.149870</td>\n      <td>(40.60915, -74.14987)</td>\n      <td>NaN</td>\n      <td>NaN</td>\n      <td>NaN</td>\n      <td>0</td>\n      <td>0</td>\n      <td>...</td>\n      <td>Unspecified</td>\n      <td>Unspecified</td>\n      <td>NaN</td>\n      <td>NaN</td>\n      <td>Station Wagon/Sport Utility Vehicle</td>\n      <td>Sedan</td>\n      <td>Pick-up Truck</td>\n      <td>NaN</td>\n      <td>NaN</td>\n      <td>2019-08-22 11:20:00</td>\n    </tr>\n    <tr>\n      <th>22111</th>\n      <td>NaN</td>\n      <td>NaN</td>\n      <td>40.605950</td>\n      <td>-74.076010</td>\n      <td>(40.60595, -74.07601)</td>\n      <td>NaN</td>\n      <td>NaN</td>\n      <td>NaN</td>\n      <td>2</td>\n      <td>0</td>\n      <td>...</td>\n      <td>Unspecified</td>\n      <td>NaN</td>\n      <td>NaN</td>\n      <td>NaN</td>\n      <td>Station Wagon/Sport Utility Vehicle</td>\n      <td>Sedan</td>\n      <td>NaN</td>\n      <td>NaN</td>\n      <td>NaN</td>\n      <td>2019-08-18 00:50:00</td>\n    </tr>\n    <tr>\n      <th>22859</th>\n      <td>NaN</td>\n      <td>NaN</td>\n      <td>40.610928</td>\n      <td>-74.116554</td>\n      <td>(40.610928, -74.116554)</td>\n      <td>NaN</td>\n      <td>NaN</td>\n      <td>NaN</td>\n      <td>0</td>\n      <td>0</td>\n      <td>...</td>\n      <td>Driver Inattention/Distraction</td>\n      <td>Driver Inattention/Distraction</td>\n      <td>Driver Inattention/Distraction</td>\n      <td>NaN</td>\n      <td>Station Wagon/Sport Utility Vehicle</td>\n      <td>Sedan</td>\n      <td>Station Wagon/Sport Utility Vehicle</td>\n      <td>Sedan</td>\n      <td>NaN</td>\n      <td>2019-07-29 07:15:00</td>\n    </tr>\n    <tr>\n      <th>24196</th>\n      <td>NaN</td>\n      <td>NaN</td>\n      <td>40.678100</td>\n      <td>-74.002339</td>\n      <td>(40.6781, -74.0023387)</td>\n      <td>NaN</td>\n      <td>NaN</td>\n      <td>NaN</td>\n      <td>0</td>\n      <td>0</td>\n      <td>...</td>\n      <td>Unspecified</td>\n      <td>NaN</td>\n      <td>NaN</td>\n      <td>NaN</td>\n      <td>PASSENGER VEHICLE</td>\n      <td>PASSENGER VEHICLE</td>\n      <td>NaN</td>\n      <td>NaN</td>\n      <td>NaN</td>\n      <td>2013-04-14 12:30:00</td>\n    </tr>\n    <tr>\n      <th>24222</th>\n      <td>NaN</td>\n      <td>NaN</td>\n      <td>NaN</td>\n      <td>NaN</td>\n      <td>NaN</td>\n      <td>NaN</td>\n      <td>NaN</td>\n      <td>NaN</td>\n      <td>0</td>\n      <td>0</td>\n      <td>...</td>\n      <td>Unspecified</td>\n      <td>Unspecified</td>\n      <td>Unspecified</td>\n      <td>NaN</td>\n      <td>PASSENGER VEHICLE</td>\n      <td>PASSENGER VEHICLE</td>\n      <td>PASSENGER VEHICLE</td>\n      <td>SPORT UTILITY / STATION WAGON</td>\n      <td>NaN</td>\n      <td>2013-04-21 16:10:00</td>\n    </tr>\n    <tr>\n      <th>25567</th>\n      <td>NaN</td>\n      <td>NaN</td>\n      <td>40.665840</td>\n      <td>-73.757385</td>\n      <td>(40.6658397, -73.7573847)</td>\n      <td>NaN</td>\n      <td>NaN</td>\n      <td>NaN</td>\n      <td>0</td>\n      <td>0</td>\n      <td>...</td>\n      <td>Unspecified</td>\n      <td>NaN</td>\n      <td>NaN</td>\n      <td>NaN</td>\n      <td>PASSENGER VEHICLE</td>\n      <td>PASSENGER VEHICLE</td>\n      <td>NaN</td>\n      <td>NaN</td>\n      <td>NaN</td>\n      <td>2013-04-22 10:44:00</td>\n    </tr>\n    <tr>\n      <th>26734</th>\n      <td>NaN</td>\n      <td>NaN</td>\n      <td>40.862498</td>\n      <td>-73.934185</td>\n      <td>(40.8624983, -73.9341848)</td>\n      <td>NaN</td>\n      <td>NaN</td>\n      <td>NaN</td>\n      <td>0</td>\n      <td>0</td>\n      <td>...</td>\n      <td>Unspecified</td>\n      <td>NaN</td>\n      <td>NaN</td>\n      <td>NaN</td>\n      <td>PASSENGER VEHICLE</td>\n      <td>UNKNOWN</td>\n      <td>NaN</td>\n      <td>NaN</td>\n      <td>NaN</td>\n      <td>2013-04-23 22:20:00</td>\n    </tr>\n    <tr>\n      <th>27762</th>\n      <td>NaN</td>\n      <td>NaN</td>\n      <td>NaN</td>\n      <td>NaN</td>\n      <td>NaN</td>\n      <td>NaN</td>\n      <td>NaN</td>\n      <td>NaN</td>\n      <td>0</td>\n      <td>0</td>\n      <td>...</td>\n      <td>Unspecified</td>\n      <td>NaN</td>\n      <td>NaN</td>\n      <td>NaN</td>\n      <td>PASSENGER VEHICLE</td>\n      <td>PASSENGER VEHICLE</td>\n      <td>NaN</td>\n      <td>NaN</td>\n      <td>NaN</td>\n      <td>2013-05-04 16:00:00</td>\n    </tr>\n    <tr>\n      <th>28235</th>\n      <td>NaN</td>\n      <td>NaN</td>\n      <td>40.808193</td>\n      <td>-73.904886</td>\n      <td>(40.8081931, -73.9048863)</td>\n      <td>NaN</td>\n      <td>NaN</td>\n      <td>NaN</td>\n      <td>0</td>\n      <td>0</td>\n      <td>...</td>\n      <td>Unspecified</td>\n      <td>NaN</td>\n      <td>NaN</td>\n      <td>NaN</td>\n      <td>PASSENGER VEHICLE</td>\n      <td>UNKNOWN</td>\n      <td>NaN</td>\n      <td>NaN</td>\n      <td>NaN</td>\n      <td>2013-04-13 17:40:00</td>\n    </tr>\n    <tr>\n      <th>28843</th>\n      <td>NaN</td>\n      <td>NaN</td>\n      <td>40.614812</td>\n      <td>-74.039816</td>\n      <td>(40.614812, -74.0398159)</td>\n      <td>NaN</td>\n      <td>NaN</td>\n      <td>NaN</td>\n      <td>5</td>\n      <td>0</td>\n      <td>...</td>\n      <td>Other Vehicular</td>\n      <td>NaN</td>\n      <td>NaN</td>\n      <td>NaN</td>\n      <td>PASSENGER VEHICLE</td>\n      <td>PASSENGER VEHICLE</td>\n      <td>NaN</td>\n      <td>NaN</td>\n      <td>NaN</td>\n      <td>2013-03-24 05:30:00</td>\n    </tr>\n    <tr>\n      <th>28922</th>\n      <td>NaN</td>\n      <td>NaN</td>\n      <td>40.860198</td>\n      <td>-73.828790</td>\n      <td>(40.8601976, -73.8287899)</td>\n      <td>NaN</td>\n      <td>NaN</td>\n      <td>NaN</td>\n      <td>0</td>\n      <td>0</td>\n      <td>...</td>\n      <td>Unspecified</td>\n      <td>NaN</td>\n      <td>NaN</td>\n      <td>NaN</td>\n      <td>VAN</td>\n      <td>PASSENGER VEHICLE</td>\n      <td>NaN</td>\n      <td>NaN</td>\n      <td>NaN</td>\n      <td>2013-03-23 21:20:00</td>\n    </tr>\n    <tr>\n      <th>29042</th>\n      <td>NaN</td>\n      <td>NaN</td>\n      <td>40.605950</td>\n      <td>-74.076010</td>\n      <td>(40.60595, -74.07601)</td>\n      <td>NaN</td>\n      <td>NaN</td>\n      <td>NaN</td>\n      <td>1</td>\n      <td>0</td>\n      <td>...</td>\n      <td>Unspecified</td>\n      <td>NaN</td>\n      <td>NaN</td>\n      <td>NaN</td>\n      <td>Station Wagon/Sport Utility Vehicle</td>\n      <td>Sedan</td>\n      <td>NaN</td>\n      <td>NaN</td>\n      <td>NaN</td>\n      <td>2019-07-28 23:10:00</td>\n    </tr>\n    <tr>\n      <th>29288</th>\n      <td>NaN</td>\n      <td>NaN</td>\n      <td>NaN</td>\n      <td>NaN</td>\n      <td>NaN</td>\n      <td>NaN</td>\n      <td>NaN</td>\n      <td>NaN</td>\n      <td>0</td>\n      <td>0</td>\n      <td>...</td>\n      <td>NaN</td>\n      <td>NaN</td>\n      <td>NaN</td>\n      <td>NaN</td>\n      <td>Sedan</td>\n      <td>NaN</td>\n      <td>NaN</td>\n      <td>NaN</td>\n      <td>NaN</td>\n      <td>2019-08-04 21:40:00</td>\n    </tr>\n    <tr>\n      <th>30035</th>\n      <td>NaN</td>\n      <td>NaN</td>\n      <td>40.764417</td>\n      <td>-73.902904</td>\n      <td>(40.764417, -73.9029044)</td>\n      <td>NaN</td>\n      <td>NaN</td>\n      <td>NaN</td>\n      <td>3</td>\n      <td>0</td>\n      <td>...</td>\n      <td>Unspecified</td>\n      <td>NaN</td>\n      <td>NaN</td>\n      <td>NaN</td>\n      <td>SPORT UTILITY / STATION WAGON</td>\n      <td>PASSENGER VEHICLE</td>\n      <td>NaN</td>\n      <td>NaN</td>\n      <td>NaN</td>\n      <td>2015-07-25 16:20:00</td>\n    </tr>\n    <tr>\n      <th>30087</th>\n      <td>NaN</td>\n      <td>NaN</td>\n      <td>40.766632</td>\n      <td>-73.889025</td>\n      <td>(40.7666318, -73.8890253)</td>\n      <td>NaN</td>\n      <td>NaN</td>\n      <td>NaN</td>\n      <td>0</td>\n      <td>0</td>\n      <td>...</td>\n      <td>Unspecified</td>\n      <td>NaN</td>\n      <td>NaN</td>\n      <td>NaN</td>\n      <td>PASSENGER VEHICLE</td>\n      <td>SPORT UTILITY / STATION WAGON</td>\n      <td>NaN</td>\n      <td>NaN</td>\n      <td>NaN</td>\n      <td>2015-07-31 04:15:00</td>\n    </tr>\n    <tr>\n      <th>30170</th>\n      <td>NaN</td>\n      <td>NaN</td>\n      <td>40.768167</td>\n      <td>-73.905433</td>\n      <td>(40.7681673, -73.905433)</td>\n      <td>NaN</td>\n      <td>NaN</td>\n      <td>NaN</td>\n      <td>0</td>\n      <td>0</td>\n      <td>...</td>\n      <td>Unspecified</td>\n      <td>NaN</td>\n      <td>NaN</td>\n      <td>NaN</td>\n      <td>PASSENGER VEHICLE</td>\n      <td>PASSENGER VEHICLE</td>\n      <td>NaN</td>\n      <td>NaN</td>\n      <td>NaN</td>\n      <td>2015-07-23 19:30:00</td>\n    </tr>\n    <tr>\n      <th>39779</th>\n      <td>NaN</td>\n      <td>NaN</td>\n      <td>40.666502</td>\n      <td>-73.996189</td>\n      <td>(40.6665019, -73.9961894)</td>\n      <td>NaN</td>\n      <td>NaN</td>\n      <td>NaN</td>\n      <td>0</td>\n      <td>0</td>\n      <td>...</td>\n      <td>Unspecified</td>\n      <td>NaN</td>\n      <td>NaN</td>\n      <td>NaN</td>\n      <td>BUS</td>\n      <td>SPORT UTILITY / STATION WAGON</td>\n      <td>NaN</td>\n      <td>NaN</td>\n      <td>NaN</td>\n      <td>2015-06-23 12:40:00</td>\n    </tr>\n    <tr>\n      <th>40706</th>\n      <td>NaN</td>\n      <td>NaN</td>\n      <td>40.840839</td>\n      <td>-73.872570</td>\n      <td>(40.8408394, -73.8725705)</td>\n      <td>NaN</td>\n      <td>NaN</td>\n      <td>NaN</td>\n      <td>1</td>\n      <td>0</td>\n      <td>...</td>\n      <td>Unspecified</td>\n      <td>NaN</td>\n      <td>NaN</td>\n      <td>NaN</td>\n      <td>MOTORCYCLE</td>\n      <td>VAN</td>\n      <td>NaN</td>\n      <td>NaN</td>\n      <td>NaN</td>\n      <td>2015-06-26 09:30:00</td>\n    </tr>\n    <tr>\n      <th>41607</th>\n      <td>NaN</td>\n      <td>NaN</td>\n      <td>40.736323</td>\n      <td>-73.856302</td>\n      <td>(40.7363231, -73.8563019)</td>\n      <td>NaN</td>\n      <td>NaN</td>\n      <td>NaN</td>\n      <td>0</td>\n      <td>0</td>\n      <td>...</td>\n      <td>Unspecified</td>\n      <td>NaN</td>\n      <td>NaN</td>\n      <td>NaN</td>\n      <td>PASSENGER VEHICLE</td>\n      <td>PASSENGER VEHICLE</td>\n      <td>NaN</td>\n      <td>NaN</td>\n      <td>NaN</td>\n      <td>2015-06-17 00:10:00</td>\n    </tr>\n    <tr>\n      <th>41741</th>\n      <td>NaN</td>\n      <td>NaN</td>\n      <td>40.556923</td>\n      <td>-74.174850</td>\n      <td>(40.556923, -74.17485)</td>\n      <td>NaN</td>\n      <td>NaN</td>\n      <td>NaN</td>\n      <td>0</td>\n      <td>0</td>\n      <td>...</td>\n      <td>Unspecified</td>\n      <td>Unspecified</td>\n      <td>NaN</td>\n      <td>NaN</td>\n      <td>Sedan</td>\n      <td>Station Wagon/Sport Utility Vehicle</td>\n      <td>Station Wagon/Sport Utility Vehicle</td>\n      <td>NaN</td>\n      <td>NaN</td>\n      <td>2019-07-10 06:58:00</td>\n    </tr>\n    <tr>\n      <th>41896</th>\n      <td>NaN</td>\n      <td>NaN</td>\n      <td>40.735930</td>\n      <td>-73.723131</td>\n      <td>(40.7359298, -73.7231313)</td>\n      <td>NaN</td>\n      <td>NaN</td>\n      <td>NaN</td>\n      <td>0</td>\n      <td>0</td>\n      <td>...</td>\n      <td>Unspecified</td>\n      <td>NaN</td>\n      <td>NaN</td>\n      <td>NaN</td>\n      <td>PASSENGER VEHICLE</td>\n      <td>PASSENGER VEHICLE</td>\n      <td>NaN</td>\n      <td>NaN</td>\n      <td>NaN</td>\n      <td>2015-06-25 18:00:00</td>\n    </tr>\n    <tr>\n      <th>41950</th>\n      <td>NaN</td>\n      <td>NaN</td>\n      <td>40.785032</td>\n      <td>-73.940571</td>\n      <td>(40.7850321, -73.9405708)</td>\n      <td>NaN</td>\n      <td>NaN</td>\n      <td>NaN</td>\n      <td>1</td>\n      <td>0</td>\n      <td>...</td>\n      <td>Unspecified</td>\n      <td>NaN</td>\n      <td>NaN</td>\n      <td>NaN</td>\n      <td>PASSENGER VEHICLE</td>\n      <td>PASSENGER VEHICLE</td>\n      <td>NaN</td>\n      <td>NaN</td>\n      <td>NaN</td>\n      <td>2015-06-18 17:05:00</td>\n    </tr>\n    <tr>\n      <th>42791</th>\n      <td>NaN</td>\n      <td>NaN</td>\n      <td>40.733610</td>\n      <td>-73.923840</td>\n      <td>(40.73361, -73.9238405)</td>\n      <td>NaN</td>\n      <td>NaN</td>\n      <td>NaN</td>\n      <td>0</td>\n      <td>0</td>\n      <td>...</td>\n      <td>Fatigued/Drowsy</td>\n      <td>NaN</td>\n      <td>NaN</td>\n      <td>NaN</td>\n      <td>PASSENGER VEHICLE</td>\n      <td>PASSENGER VEHICLE</td>\n      <td>NaN</td>\n      <td>NaN</td>\n      <td>NaN</td>\n      <td>2015-06-30 14:15:00</td>\n    </tr>\n    <tr>\n      <th>43108</th>\n      <td>NaN</td>\n      <td>NaN</td>\n      <td>40.666539</td>\n      <td>-73.809943</td>\n      <td>(40.6665387, -73.809943)</td>\n      <td>NaN</td>\n      <td>NaN</td>\n      <td>NaN</td>\n      <td>0</td>\n      <td>0</td>\n      <td>...</td>\n      <td>Unspecified</td>\n      <td>NaN</td>\n      <td>NaN</td>\n      <td>NaN</td>\n      <td>PASSENGER VEHICLE</td>\n      <td>PASSENGER VEHICLE</td>\n      <td>NaN</td>\n      <td>NaN</td>\n      <td>NaN</td>\n      <td>2015-06-09 16:00:00</td>\n    </tr>\n    <tr>\n      <th>44378</th>\n      <td>NaN</td>\n      <td>NaN</td>\n      <td>40.781667</td>\n      <td>-73.986689</td>\n      <td>(40.7816671, -73.9866887)</td>\n      <td>NaN</td>\n      <td>NaN</td>\n      <td>NaN</td>\n      <td>0</td>\n      <td>0</td>\n      <td>...</td>\n      <td>Unspecified</td>\n      <td>NaN</td>\n      <td>NaN</td>\n      <td>NaN</td>\n      <td>PASSENGER VEHICLE</td>\n      <td>PASSENGER VEHICLE</td>\n      <td>NaN</td>\n      <td>NaN</td>\n      <td>NaN</td>\n      <td>2015-05-15 18:50:00</td>\n    </tr>\n    <tr>\n      <th>44616</th>\n      <td>NaN</td>\n      <td>NaN</td>\n      <td>40.851501</td>\n      <td>-73.942523</td>\n      <td>(40.8515013, -73.9425233)</td>\n      <td>NaN</td>\n      <td>NaN</td>\n      <td>NaN</td>\n      <td>0</td>\n      <td>0</td>\n      <td>...</td>\n      <td>NaN</td>\n      <td>NaN</td>\n      <td>NaN</td>\n      <td>NaN</td>\n      <td>PASSENGER VEHICLE</td>\n      <td>NaN</td>\n      <td>NaN</td>\n      <td>NaN</td>\n      <td>NaN</td>\n      <td>2015-05-16 04:15:00</td>\n    </tr>\n  </tbody>\n</table>\n<p>42 rows × 27 columns</p>\n</div>"
     },
     "metadata": {},
     "execution_count": 111
    }
   ],
   "source": [
    "# Check the 42 rows where `on_street_name` is null\n",
    "df[df[\"on_street_name\"].isnull()]"
   ]
  },
  {
   "cell_type": "code",
   "execution_count": 115,
   "metadata": {},
   "outputs": [
    {
     "output_type": "stream",
     "name": "stdout",
     "text": [
      "min latitude: 40.556923\nmax latitude: 40.8624983\nmin longitude: -74.17485\nmax longitude: -73.7231313\n"
     ]
    }
   ],
   "source": [
    "# Check the \"Bounding box\" of the crash to check on a map the zone where the street names are missing\n",
    "min_latitude = df[\"latitude\"][df[\"on_street_name\"].isnull()].min()\n",
    "max_latitude = df[\"latitude\"][df[\"on_street_name\"].isnull()].max()\n",
    "min_longitude = df[\"longitude\"][df[\"on_street_name\"].isnull()].min()\n",
    "max_longitude = df[\"longitude\"][df[\"on_street_name\"].isnull()].max()\n",
    "\n",
    "print(f\"min latitude: {min_latitude}\")\n",
    "print(f\"max latitude: {max_latitude}\")\n",
    "print(f\"min longitude: {min_longitude}\")\n",
    "print(f\"max longitude: {max_longitude}\")"
   ]
  },
  {
   "source": [
    "#### Observation notes: \n",
    "* By checking the locations of some of the missing street names, we see that some crashes happened on highways.\n",
    "These are not really streets.\n",
    "\n",
    "* Some collision entries have no location info at all\n",
    "\n",
    "    => Decision: remove the 42 entries where all street names are missing"
   ],
   "cell_type": "markdown",
   "metadata": {}
  },
  {
   "cell_type": "code",
   "execution_count": 117,
   "metadata": {},
   "outputs": [],
   "source": [
    "# Remove the 42 rows where `on_street_name` is null\n",
    "df.drop(df[df[\"on_street_name\"].isnull()].index, inplace=True)"
   ]
  },
  {
   "cell_type": "code",
   "execution_count": 118,
   "metadata": {},
   "outputs": [
    {
     "output_type": "execute_result",
     "data": {
      "text/plain": [
       "Empty DataFrame\n",
       "Columns: [borough, zip_code, latitude, longitude, location, on_street_name, off_street_name, cross_street_name, number_of_persons_injured, number_of_persons_killed, number_of_pedestrians_injured, number_of_pedestrians_killed, number_of_cyclist_injured, number_of_cyclist_killed, number_of_motorist_injured, number_of_motorist_killed, contributing_factor_vehicle_1, contributing_factor_vehicle_2, contributing_factor_vehicle_3, contributing_factor_vehicle_4, contributing_factor_vehicle_5, vehicle_type_code1, vehicle_type_code2, vehicle_type_code_3, vehicle_type_code_4, vehicle_type_code_5, crash_datetime]\n",
       "Index: []\n",
       "\n",
       "[0 rows x 27 columns]"
      ],
      "text/html": "<div>\n<style scoped>\n    .dataframe tbody tr th:only-of-type {\n        vertical-align: middle;\n    }\n\n    .dataframe tbody tr th {\n        vertical-align: top;\n    }\n\n    .dataframe thead th {\n        text-align: right;\n    }\n</style>\n<table border=\"1\" class=\"dataframe\">\n  <thead>\n    <tr style=\"text-align: right;\">\n      <th></th>\n      <th>borough</th>\n      <th>zip_code</th>\n      <th>latitude</th>\n      <th>longitude</th>\n      <th>location</th>\n      <th>on_street_name</th>\n      <th>off_street_name</th>\n      <th>cross_street_name</th>\n      <th>number_of_persons_injured</th>\n      <th>number_of_persons_killed</th>\n      <th>...</th>\n      <th>contributing_factor_vehicle_2</th>\n      <th>contributing_factor_vehicle_3</th>\n      <th>contributing_factor_vehicle_4</th>\n      <th>contributing_factor_vehicle_5</th>\n      <th>vehicle_type_code1</th>\n      <th>vehicle_type_code2</th>\n      <th>vehicle_type_code_3</th>\n      <th>vehicle_type_code_4</th>\n      <th>vehicle_type_code_5</th>\n      <th>crash_datetime</th>\n    </tr>\n  </thead>\n  <tbody>\n  </tbody>\n</table>\n<p>0 rows × 27 columns</p>\n</div>"
     },
     "metadata": {},
     "execution_count": 118
    }
   ],
   "source": [
    "# Check again the 42 rows where `on_street_name` is null \n",
    "# to see if there are effectively dropped\n",
    "df[df[\"on_street_name\"].isnull()]"
   ]
  },
  {
   "cell_type": "code",
   "execution_count": 119,
   "metadata": {},
   "outputs": [
    {
     "output_type": "stream",
     "name": "stdout",
     "text": [
      "Number of current missing values:\n"
     ]
    },
    {
     "output_type": "execute_result",
     "data": {
      "text/plain": [
       "borough                          34984\n",
       "zip_code                         34992\n",
       "latitude                          8022\n",
       "longitude                         8022\n",
       "location                          8022\n",
       "on_street_name                       0\n",
       "off_street_name                  52833\n",
       "cross_street_name                73991\n",
       "number_of_persons_injured            0\n",
       "number_of_persons_killed             0\n",
       "number_of_pedestrians_injured        0\n",
       "number_of_pedestrians_killed         0\n",
       "number_of_cyclist_injured            0\n",
       "number_of_cyclist_killed             0\n",
       "number_of_motorist_injured           0\n",
       "number_of_motorist_killed            0\n",
       "contributing_factor_vehicle_1      371\n",
       "contributing_factor_vehicle_2    19239\n",
       "contributing_factor_vehicle_3    91202\n",
       "contributing_factor_vehicle_4    97720\n",
       "contributing_factor_vehicle_5    99291\n",
       "vehicle_type_code1                 740\n",
       "vehicle_type_code2               26585\n",
       "vehicle_type_code_3              91634\n",
       "vehicle_type_code_4              97813\n",
       "vehicle_type_code_5              99312\n",
       "crash_datetime                       0\n",
       "dtype: int64"
      ]
     },
     "metadata": {},
     "execution_count": 119
    }
   ],
   "source": [
    "print(\"Number of current missing values:\")\n",
    "df.isnull().sum()"
   ]
  },
  {
   "source": [
    "### Fix data types"
   ],
   "cell_type": "markdown",
   "metadata": {}
  },
  {
   "cell_type": "code",
   "execution_count": 25,
   "metadata": {},
   "outputs": [],
   "source": [
    "# Combine `crash_date` and `crash_time` into a datetime64 feature\n",
    "df[\"crash_datetime\"] = pd.to_datetime(df[\"crash_date\"] + ' ' + df[\"crash_time\"])"
   ]
  },
  {
   "cell_type": "code",
   "execution_count": 28,
   "metadata": {},
   "outputs": [
    {
     "output_type": "execute_result",
     "data": {
      "text/plain": [
       "0   2017-04-18 23:10:00\n",
       "1   2017-05-06 13:00:00\n",
       "2   2017-04-27 17:15:00\n",
       "3   2017-05-09 20:10:00\n",
       "4   2017-04-18 14:00:00\n",
       "Name: crash_datetime, dtype: datetime64[ns]"
      ]
     },
     "metadata": {},
     "execution_count": 28
    }
   ],
   "source": [
    "df[\"crash_datetime\"].head()"
   ]
  },
  {
   "source": [
    "### Feature selection"
   ],
   "cell_type": "markdown",
   "metadata": {}
  },
  {
   "cell_type": "code",
   "execution_count": 26,
   "metadata": {},
   "outputs": [],
   "source": [
    "# Drop `crash_date` and `crash_time` since we have the new \n",
    "df.drop([\"crash_date\", \"crash_time\"], axis=1, inplace=True)"
   ]
  },
  {
   "cell_type": "code",
   "execution_count": 27,
   "metadata": {},
   "outputs": [],
   "source": [
    "# Drop the `collision_id` feature as it won't be useful for predicting the outcome.\n",
    "df.drop(\"collision_id\", axis=1, inplace=True)"
   ]
  },
  {
   "cell_type": "code",
   "execution_count": 135,
   "metadata": {},
   "outputs": [],
   "source": [
    "# Quick and dirty version\n",
    "# we'll only select the most important features where there is no missing value.\n",
    "no_nan_cols = df.loc[:, df.isnull().sum() == 0].columns\n",
    "df_good_enough = df[no_nan_cols]"
   ]
  },
  {
   "cell_type": "code",
   "execution_count": 138,
   "metadata": {},
   "outputs": [],
   "source": [
    "# Export the dataframe into data_clean_GOOD_ENOUGH file\n",
    "df_good_enough.to_csv(r'assets/data_clean_GOOD_ENOUGH.csv', index = False)"
   ]
  },
  {
   "cell_type": "code",
   "execution_count": null,
   "metadata": {},
   "outputs": [],
   "source": []
  }
 ]
}