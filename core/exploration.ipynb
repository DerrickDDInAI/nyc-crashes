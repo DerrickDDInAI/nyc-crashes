{
 "metadata": {
  "language_info": {
   "codemirror_mode": {
    "name": "ipython",
    "version": 3
   },
   "file_extension": ".py",
   "mimetype": "text/x-python",
   "name": "python",
   "nbconvert_exporter": "python",
   "pygments_lexer": "ipython3",
   "version": "3.7.10-final"
  },
  "orig_nbformat": 2,
  "kernelspec": {
   "name": "python3",
   "display_name": "Python 3.7.10 64-bit ('ddenv': conda)",
   "metadata": {
    "interpreter": {
     "hash": "4e93cb0a747647566ecb8af40624e8431245ee7f956cc05cad77669f445d8dd1"
    }
   }
  }
 },
 "nbformat": 4,
 "nbformat_minor": 2,
 "cells": [
  {
   "source": [
    "# NYC Motor Vehicle Crashes dataset\n",
    "Explore, clean and prepare dataset for a machine learning model"
   ],
   "cell_type": "markdown",
   "metadata": {}
  },
  {
   "source": [
    "## 1. Import modules"
   ],
   "cell_type": "markdown",
   "metadata": {}
  },
  {
   "cell_type": "code",
   "execution_count": 3,
   "metadata": {},
   "outputs": [],
   "source": [
    "import numpy as np\n",
    "import pandas as pd"
   ]
  },
  {
   "source": [
    "## 2. Import dataset"
   ],
   "cell_type": "markdown",
   "metadata": {}
  },
  {
   "cell_type": "code",
   "execution_count": 4,
   "metadata": {},
   "outputs": [],
   "source": [
    "df = pd.read_csv('assets/data_100000.csv')"
   ]
  },
  {
   "source": [
    "## 3. Explore dataset"
   ],
   "cell_type": "markdown",
   "metadata": {}
  },
  {
   "cell_type": "code",
   "execution_count": 6,
   "metadata": {},
   "outputs": [
    {
     "output_type": "execute_result",
     "data": {
      "text/plain": [
       "                crash_date crash_time        borough  zip_code   latitude  \\\n",
       "0  2017-04-18T00:00:00.000      23:10  STATEN ISLAND   10312.0  40.536728   \n",
       "1  2017-05-06T00:00:00.000      13:00          BRONX   10472.0  40.829052   \n",
       "2  2017-04-27T00:00:00.000      17:15         QUEENS   11420.0  40.677303   \n",
       "3  2017-05-09T00:00:00.000      20:10            NaN       NaN  40.624958   \n",
       "4  2017-04-18T00:00:00.000      14:00          BRONX   10456.0  40.828846   \n",
       "\n",
       "   longitude                 location                    on_street_name  \\\n",
       "0 -74.193344  (40.536728, -74.193344)                               NaN   \n",
       "1 -73.850380   (40.829052, -73.85038)  CASTLE HILL AVENUE                 \n",
       "2 -73.804565  (40.677303, -73.804565)  135 STREET                         \n",
       "3 -74.145775  (40.624958, -74.145775)  FOREST AVENUE                      \n",
       "4 -73.903120   (40.828846, -73.90312)                               NaN   \n",
       "\n",
       "    off_street_name                         cross_street_name  ...  \\\n",
       "0               NaN  243       DARLINGTON AVENUE               ...   \n",
       "1  BLACKROCK AVENUE                                       NaN  ...   \n",
       "2    FOCH BOULEVARD                                       NaN  ...   \n",
       "3   RICHMOND AVENUE                                       NaN  ...   \n",
       "4               NaN  1167      BOSTON ROAD                     ...   \n",
       "\n",
       "   contributing_factor_vehicle_2  contributing_factor_vehicle_3  \\\n",
       "0                    Unspecified                            NaN   \n",
       "1                            NaN                            NaN   \n",
       "2                    Unspecified                            NaN   \n",
       "3                    Unspecified                    Unspecified   \n",
       "4                    Unspecified                            NaN   \n",
       "\n",
       "   contributing_factor_vehicle_4  contributing_factor_vehicle_5  collision_id  \\\n",
       "0                            NaN                            NaN       3654181   \n",
       "1                            NaN                            NaN       3665311   \n",
       "2                            NaN                            NaN       3658491   \n",
       "3                            NaN                            NaN       3666554   \n",
       "4                            NaN                            NaN       3653269   \n",
       "\n",
       "                    vehicle_type_code1                   vehicle_type_code2  \\\n",
       "0  Station Wagon/Sport Utility Vehicle                                  NaN   \n",
       "1                                Sedan                                  NaN   \n",
       "2                                Sedan                                Sedan   \n",
       "3                           Motorcycle                                Sedan   \n",
       "4                                Sedan  Station Wagon/Sport Utility Vehicle   \n",
       "\n",
       "   vehicle_type_code_3 vehicle_type_code_4 vehicle_type_code_5  \n",
       "0                  NaN                 NaN                 NaN  \n",
       "1                  NaN                 NaN                 NaN  \n",
       "2                  NaN                 NaN                 NaN  \n",
       "3                  Bus                 NaN                 NaN  \n",
       "4                  NaN                 NaN                 NaN  \n",
       "\n",
       "[5 rows x 29 columns]"
      ],
      "text/html": "<div>\n<style scoped>\n    .dataframe tbody tr th:only-of-type {\n        vertical-align: middle;\n    }\n\n    .dataframe tbody tr th {\n        vertical-align: top;\n    }\n\n    .dataframe thead th {\n        text-align: right;\n    }\n</style>\n<table border=\"1\" class=\"dataframe\">\n  <thead>\n    <tr style=\"text-align: right;\">\n      <th></th>\n      <th>crash_date</th>\n      <th>crash_time</th>\n      <th>borough</th>\n      <th>zip_code</th>\n      <th>latitude</th>\n      <th>longitude</th>\n      <th>location</th>\n      <th>on_street_name</th>\n      <th>off_street_name</th>\n      <th>cross_street_name</th>\n      <th>...</th>\n      <th>contributing_factor_vehicle_2</th>\n      <th>contributing_factor_vehicle_3</th>\n      <th>contributing_factor_vehicle_4</th>\n      <th>contributing_factor_vehicle_5</th>\n      <th>collision_id</th>\n      <th>vehicle_type_code1</th>\n      <th>vehicle_type_code2</th>\n      <th>vehicle_type_code_3</th>\n      <th>vehicle_type_code_4</th>\n      <th>vehicle_type_code_5</th>\n    </tr>\n  </thead>\n  <tbody>\n    <tr>\n      <th>0</th>\n      <td>2017-04-18T00:00:00.000</td>\n      <td>23:10</td>\n      <td>STATEN ISLAND</td>\n      <td>10312.0</td>\n      <td>40.536728</td>\n      <td>-74.193344</td>\n      <td>(40.536728, -74.193344)</td>\n      <td>NaN</td>\n      <td>NaN</td>\n      <td>243       DARLINGTON AVENUE</td>\n      <td>...</td>\n      <td>Unspecified</td>\n      <td>NaN</td>\n      <td>NaN</td>\n      <td>NaN</td>\n      <td>3654181</td>\n      <td>Station Wagon/Sport Utility Vehicle</td>\n      <td>NaN</td>\n      <td>NaN</td>\n      <td>NaN</td>\n      <td>NaN</td>\n    </tr>\n    <tr>\n      <th>1</th>\n      <td>2017-05-06T00:00:00.000</td>\n      <td>13:00</td>\n      <td>BRONX</td>\n      <td>10472.0</td>\n      <td>40.829052</td>\n      <td>-73.850380</td>\n      <td>(40.829052, -73.85038)</td>\n      <td>CASTLE HILL AVENUE</td>\n      <td>BLACKROCK AVENUE</td>\n      <td>NaN</td>\n      <td>...</td>\n      <td>NaN</td>\n      <td>NaN</td>\n      <td>NaN</td>\n      <td>NaN</td>\n      <td>3665311</td>\n      <td>Sedan</td>\n      <td>NaN</td>\n      <td>NaN</td>\n      <td>NaN</td>\n      <td>NaN</td>\n    </tr>\n    <tr>\n      <th>2</th>\n      <td>2017-04-27T00:00:00.000</td>\n      <td>17:15</td>\n      <td>QUEENS</td>\n      <td>11420.0</td>\n      <td>40.677303</td>\n      <td>-73.804565</td>\n      <td>(40.677303, -73.804565)</td>\n      <td>135 STREET</td>\n      <td>FOCH BOULEVARD</td>\n      <td>NaN</td>\n      <td>...</td>\n      <td>Unspecified</td>\n      <td>NaN</td>\n      <td>NaN</td>\n      <td>NaN</td>\n      <td>3658491</td>\n      <td>Sedan</td>\n      <td>Sedan</td>\n      <td>NaN</td>\n      <td>NaN</td>\n      <td>NaN</td>\n    </tr>\n    <tr>\n      <th>3</th>\n      <td>2017-05-09T00:00:00.000</td>\n      <td>20:10</td>\n      <td>NaN</td>\n      <td>NaN</td>\n      <td>40.624958</td>\n      <td>-74.145775</td>\n      <td>(40.624958, -74.145775)</td>\n      <td>FOREST AVENUE</td>\n      <td>RICHMOND AVENUE</td>\n      <td>NaN</td>\n      <td>...</td>\n      <td>Unspecified</td>\n      <td>Unspecified</td>\n      <td>NaN</td>\n      <td>NaN</td>\n      <td>3666554</td>\n      <td>Motorcycle</td>\n      <td>Sedan</td>\n      <td>Bus</td>\n      <td>NaN</td>\n      <td>NaN</td>\n    </tr>\n    <tr>\n      <th>4</th>\n      <td>2017-04-18T00:00:00.000</td>\n      <td>14:00</td>\n      <td>BRONX</td>\n      <td>10456.0</td>\n      <td>40.828846</td>\n      <td>-73.903120</td>\n      <td>(40.828846, -73.90312)</td>\n      <td>NaN</td>\n      <td>NaN</td>\n      <td>1167      BOSTON ROAD</td>\n      <td>...</td>\n      <td>Unspecified</td>\n      <td>NaN</td>\n      <td>NaN</td>\n      <td>NaN</td>\n      <td>3653269</td>\n      <td>Sedan</td>\n      <td>Station Wagon/Sport Utility Vehicle</td>\n      <td>NaN</td>\n      <td>NaN</td>\n      <td>NaN</td>\n    </tr>\n  </tbody>\n</table>\n<p>5 rows × 29 columns</p>\n</div>"
     },
     "metadata": {},
     "execution_count": 6
    }
   ],
   "source": [
    "df.head()"
   ]
  },
  {
   "cell_type": "code",
   "execution_count": 5,
   "metadata": {},
   "outputs": [
    {
     "output_type": "execute_result",
     "data": {
      "text/plain": [
       "<bound method DataFrame.info of                     crash_date crash_time        borough  zip_code   latitude  \\\n",
       "0      2017-04-18T00:00:00.000      23:10  STATEN ISLAND   10312.0  40.536728   \n",
       "1      2017-05-06T00:00:00.000      13:00          BRONX   10472.0  40.829052   \n",
       "2      2017-04-27T00:00:00.000      17:15         QUEENS   11420.0  40.677303   \n",
       "3      2017-05-09T00:00:00.000      20:10            NaN       NaN  40.624958   \n",
       "4      2017-04-18T00:00:00.000      14:00          BRONX   10456.0  40.828846   \n",
       "...                        ...        ...            ...       ...        ...   \n",
       "99995  2019-11-20T00:00:00.000      15:00       BROOKLYN   11210.0  40.618893   \n",
       "99996  2019-12-01T00:00:00.000      11:22         QUEENS   11367.0  40.723380   \n",
       "99997  2019-11-21T00:00:00.000      21:30       BROOKLYN   11249.0  40.710820   \n",
       "99998  2019-11-18T00:00:00.000      17:28       BROOKLYN   11234.0  40.631180   \n",
       "99999  2019-11-17T00:00:00.000      20:42      MANHATTAN   10017.0  40.750760   \n",
       "\n",
       "       longitude                 location                    on_street_name  \\\n",
       "0     -74.193344  (40.536728, -74.193344)                               NaN   \n",
       "1     -73.850380   (40.829052, -73.85038)  CASTLE HILL AVENUE                 \n",
       "2     -73.804565  (40.677303, -73.804565)  135 STREET                         \n",
       "3     -74.145775  (40.624958, -74.145775)  FOREST AVENUE                      \n",
       "4     -73.903120   (40.828846, -73.90312)                               NaN   \n",
       "...          ...                      ...                               ...   \n",
       "99995 -73.946420   (40.618893, -73.94642)                               NaN   \n",
       "99996 -73.814750    (40.72338, -73.81475)                               NaN   \n",
       "99997 -73.968530    (40.71082, -73.96853)  BROADWAY                           \n",
       "99998 -73.928185   (40.63118, -73.928185)                               NaN   \n",
       "99999 -73.968430    (40.75076, -73.96843)  EAST 45 STREET                     \n",
       "\n",
       "        off_street_name                         cross_street_name  ...  \\\n",
       "0                   NaN  243       DARLINGTON AVENUE               ...   \n",
       "1      BLACKROCK AVENUE                                       NaN  ...   \n",
       "2        FOCH BOULEVARD                                       NaN  ...   \n",
       "3       RICHMOND AVENUE                                       NaN  ...   \n",
       "4                   NaN  1167      BOSTON ROAD                     ...   \n",
       "...                 ...                                       ...  ...   \n",
       "99995               NaN  1314      EAST 29 STREET                  ...   \n",
       "99996               NaN  150-62    76 ROAD                         ...   \n",
       "99997       KENT AVENUE                                       NaN  ...   \n",
       "99998               NaN  1695      UTICA AVENUE                    ...   \n",
       "99999          1 AVENUE                                       NaN  ...   \n",
       "\n",
       "        contributing_factor_vehicle_2  contributing_factor_vehicle_3  \\\n",
       "0                         Unspecified                            NaN   \n",
       "1                                 NaN                            NaN   \n",
       "2                         Unspecified                            NaN   \n",
       "3                         Unspecified                    Unspecified   \n",
       "4                         Unspecified                            NaN   \n",
       "...                               ...                            ...   \n",
       "99995                             NaN                            NaN   \n",
       "99996                     Unspecified                            NaN   \n",
       "99997                     Unspecified                            NaN   \n",
       "99998                     Unspecified                            NaN   \n",
       "99999  Driver Inattention/Distraction                            NaN   \n",
       "\n",
       "       contributing_factor_vehicle_4  contributing_factor_vehicle_5  \\\n",
       "0                                NaN                            NaN   \n",
       "1                                NaN                            NaN   \n",
       "2                                NaN                            NaN   \n",
       "3                                NaN                            NaN   \n",
       "4                                NaN                            NaN   \n",
       "...                              ...                            ...   \n",
       "99995                            NaN                            NaN   \n",
       "99996                            NaN                            NaN   \n",
       "99997                            NaN                            NaN   \n",
       "99998                            NaN                            NaN   \n",
       "99999                            NaN                            NaN   \n",
       "\n",
       "       collision_id                   vehicle_type_code1  \\\n",
       "0           3654181  Station Wagon/Sport Utility Vehicle   \n",
       "1           3665311                                Sedan   \n",
       "2           3658491                                Sedan   \n",
       "3           3666554                           Motorcycle   \n",
       "4           3653269                                Sedan   \n",
       "...             ...                                  ...   \n",
       "99995       4244961  Station Wagon/Sport Utility Vehicle   \n",
       "99996       4250093  Station Wagon/Sport Utility Vehicle   \n",
       "99997       4245290                                Sedan   \n",
       "99998       4243646                                Sedan   \n",
       "99999       4247517                                Sedan   \n",
       "\n",
       "                        vehicle_type_code2  vehicle_type_code_3  \\\n",
       "0                                      NaN                  NaN   \n",
       "1                                      NaN                  NaN   \n",
       "2                                    Sedan                  NaN   \n",
       "3                                    Sedan                  Bus   \n",
       "4      Station Wagon/Sport Utility Vehicle                  NaN   \n",
       "...                                    ...                  ...   \n",
       "99995                                  NaN                  NaN   \n",
       "99996  Station Wagon/Sport Utility Vehicle                  NaN   \n",
       "99997                            Box Truck                  NaN   \n",
       "99998                                  Bus                  NaN   \n",
       "99999  Station Wagon/Sport Utility Vehicle                  NaN   \n",
       "\n",
       "      vehicle_type_code_4 vehicle_type_code_5  \n",
       "0                     NaN                 NaN  \n",
       "1                     NaN                 NaN  \n",
       "2                     NaN                 NaN  \n",
       "3                     NaN                 NaN  \n",
       "4                     NaN                 NaN  \n",
       "...                   ...                 ...  \n",
       "99995                 NaN                 NaN  \n",
       "99996                 NaN                 NaN  \n",
       "99997                 NaN                 NaN  \n",
       "99998                 NaN                 NaN  \n",
       "99999                 NaN                 NaN  \n",
       "\n",
       "[100000 rows x 29 columns]>"
      ]
     },
     "metadata": {},
     "execution_count": 5
    }
   ],
   "source": [
    "df.info"
   ]
  },
  {
   "cell_type": "code",
   "execution_count": null,
   "metadata": {},
   "outputs": [],
   "source": []
  }
 ]
}